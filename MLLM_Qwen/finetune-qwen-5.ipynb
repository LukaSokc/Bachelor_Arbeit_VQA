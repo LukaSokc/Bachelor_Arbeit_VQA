{
 "metadata": {
  "kernelspec": {
   "language": "python",
   "display_name": "Python 3",
   "name": "python3"
  },
  "language_info": {
   "name": "python",
   "version": "3.10.12",
   "mimetype": "text/x-python",
   "codemirror_mode": {
    "name": "ipython",
    "version": 3
   },
   "pygments_lexer": "ipython3",
   "nbconvert_exporter": "python",
   "file_extension": ".py"
  },
  "kaggle": {
   "accelerator": "nvidiaTeslaT4",
   "dataSources": [],
   "dockerImageVersionId": 30919,
   "isInternetEnabled": true,
   "language": "python",
   "sourceType": "notebook",
   "isGpuEnabled": true
  }
 },
 "nbformat_minor": 4,
 "nbformat": 4,
 "cells": [
  {
   "cell_type": "code",
   "source": [
    "import torch\n",
    "from transformers import AutoModelForVision2Seq, AutoProcessor, AutoTokenizer,Qwen2_5_VLForConditionalGeneration, Qwen2_5_VLProcessor, BitsAndBytesConfig\n",
    "from peft import LoraConfig, get_peft_model\n",
    "from datasets import load_from_disk, load_dataset\n",
    "from transformers import TrainingArguments, Trainer\n",
    "from pathlib import Path\n",
    "from qwen_vl_utils import process_vision_info\n",
    "import pandas as pd\n",
    "from PIL import Image\n",
    "import os\n",
    "from trl import SFTConfig, SFTTrainer\n",
    "\n"
   ],
   "metadata": {
    "trusted": true,
    "execution": {
     "iopub.status.busy": "2025-03-28T10:11:45.663393Z",
     "iopub.execute_input": "2025-03-28T10:11:45.663749Z",
     "iopub.status.idle": "2025-03-28T10:11:45.668606Z",
     "shell.execute_reply.started": "2025-03-28T10:11:45.663705Z",
     "shell.execute_reply": "2025-03-28T10:11:45.667549Z"
    },
    "ExecuteTime": {
     "end_time": "2025-04-06T09:43:12.892975Z",
     "start_time": "2025-04-06T09:42:35.715030Z"
    }
   },
   "outputs": [
    {
     "name": "stderr",
     "output_type": "stream",
     "text": [
      "C:\\Users\\Arbnor\\Desktop\\BA\\BA\\Bachelor_Arbeit_VQA\\venv\\Lib\\site-packages\\tqdm\\auto.py:21: TqdmWarning: IProgress not found. Please update jupyter and ipywidgets. See https://ipywidgets.readthedocs.io/en/stable/user_install.html\n",
      "  from .autonotebook import tqdm as notebook_tqdm\n"
     ]
    },
    {
     "name": "stdout",
     "output_type": "stream",
     "text": [
      "[2025-04-06 11:43:10,547] [INFO] [real_accelerator.py:222:get_accelerator] Setting ds_accelerator to cuda (auto detect)\n"
     ]
    },
    {
     "ename": "RuntimeError",
     "evalue": "Failed to import transformers.models.qwen2_5_vl.modeling_qwen2_5_vl because of the following error (look up to see its traceback):\nCUDA_HOME does not exist, unable to compile CUDA op(s)",
     "output_type": "error",
     "traceback": [
      "\u001B[31m---------------------------------------------------------------------------\u001B[39m",
      "\u001B[31mMissingCUDAException\u001B[39m                      Traceback (most recent call last)",
      "\u001B[36mFile \u001B[39m\u001B[32m~\\Desktop\\BA\\BA\\Bachelor_Arbeit_VQA\\venv\\Lib\\site-packages\\transformers\\utils\\import_utils.py:1967\u001B[39m, in \u001B[36m_LazyModule._get_module\u001B[39m\u001B[34m(self, module_name)\u001B[39m\n\u001B[32m   1966\u001B[39m \u001B[38;5;28;01mtry\u001B[39;00m:\n\u001B[32m-> \u001B[39m\u001B[32m1967\u001B[39m     \u001B[38;5;28;01mreturn\u001B[39;00m \u001B[43mimportlib\u001B[49m\u001B[43m.\u001B[49m\u001B[43mimport_module\u001B[49m\u001B[43m(\u001B[49m\u001B[33;43m\"\u001B[39;49m\u001B[33;43m.\u001B[39;49m\u001B[33;43m\"\u001B[39;49m\u001B[43m \u001B[49m\u001B[43m+\u001B[49m\u001B[43m \u001B[49m\u001B[43mmodule_name\u001B[49m\u001B[43m,\u001B[49m\u001B[43m \u001B[49m\u001B[38;5;28;43mself\u001B[39;49m\u001B[43m.\u001B[49m\u001B[34;43m__name__\u001B[39;49m\u001B[43m)\u001B[49m\n\u001B[32m   1968\u001B[39m \u001B[38;5;28;01mexcept\u001B[39;00m \u001B[38;5;167;01mException\u001B[39;00m \u001B[38;5;28;01mas\u001B[39;00m e:\n",
      "\u001B[36mFile \u001B[39m\u001B[32m~\\AppData\\Local\\Programs\\Python\\Python311\\Lib\\importlib\\__init__.py:126\u001B[39m, in \u001B[36mimport_module\u001B[39m\u001B[34m(name, package)\u001B[39m\n\u001B[32m    125\u001B[39m         level += \u001B[32m1\u001B[39m\n\u001B[32m--> \u001B[39m\u001B[32m126\u001B[39m \u001B[38;5;28;01mreturn\u001B[39;00m \u001B[43m_bootstrap\u001B[49m\u001B[43m.\u001B[49m\u001B[43m_gcd_import\u001B[49m\u001B[43m(\u001B[49m\u001B[43mname\u001B[49m\u001B[43m[\u001B[49m\u001B[43mlevel\u001B[49m\u001B[43m:\u001B[49m\u001B[43m]\u001B[49m\u001B[43m,\u001B[49m\u001B[43m \u001B[49m\u001B[43mpackage\u001B[49m\u001B[43m,\u001B[49m\u001B[43m \u001B[49m\u001B[43mlevel\u001B[49m\u001B[43m)\u001B[49m\n",
      "\u001B[36mFile \u001B[39m\u001B[32m<frozen importlib._bootstrap>:1206\u001B[39m, in \u001B[36m_gcd_import\u001B[39m\u001B[34m(name, package, level)\u001B[39m\n",
      "\u001B[36mFile \u001B[39m\u001B[32m<frozen importlib._bootstrap>:1178\u001B[39m, in \u001B[36m_find_and_load\u001B[39m\u001B[34m(name, import_)\u001B[39m\n",
      "\u001B[36mFile \u001B[39m\u001B[32m<frozen importlib._bootstrap>:1149\u001B[39m, in \u001B[36m_find_and_load_unlocked\u001B[39m\u001B[34m(name, import_)\u001B[39m\n",
      "\u001B[36mFile \u001B[39m\u001B[32m<frozen importlib._bootstrap>:690\u001B[39m, in \u001B[36m_load_unlocked\u001B[39m\u001B[34m(spec)\u001B[39m\n",
      "\u001B[36mFile \u001B[39m\u001B[32m<frozen importlib._bootstrap_external>:940\u001B[39m, in \u001B[36mexec_module\u001B[39m\u001B[34m(self, module)\u001B[39m\n",
      "\u001B[36mFile \u001B[39m\u001B[32m<frozen importlib._bootstrap>:241\u001B[39m, in \u001B[36m_call_with_frames_removed\u001B[39m\u001B[34m(f, *args, **kwds)\u001B[39m\n",
      "\u001B[36mFile \u001B[39m\u001B[32m~\\Desktop\\BA\\BA\\Bachelor_Arbeit_VQA\\venv\\Lib\\site-packages\\transformers\\models\\qwen2_5_vl\\modeling_qwen2_5_vl.py:43\u001B[39m\n\u001B[32m     42\u001B[39m \u001B[38;5;28;01mfrom\u001B[39;00m\u001B[38;5;250m \u001B[39m\u001B[34;01m.\u001B[39;00m\u001B[34;01m.\u001B[39;00m\u001B[34;01m.\u001B[39;00m\u001B[34;01mmodeling_rope_utils\u001B[39;00m\u001B[38;5;250m \u001B[39m\u001B[38;5;28;01mimport\u001B[39;00m ROPE_INIT_FUNCTIONS, dynamic_rope_update\n\u001B[32m---> \u001B[39m\u001B[32m43\u001B[39m \u001B[38;5;28;01mfrom\u001B[39;00m\u001B[38;5;250m \u001B[39m\u001B[34;01m.\u001B[39;00m\u001B[34;01m.\u001B[39;00m\u001B[34;01m.\u001B[39;00m\u001B[34;01mmodeling_utils\u001B[39;00m\u001B[38;5;250m \u001B[39m\u001B[38;5;28;01mimport\u001B[39;00m PreTrainedModel\n\u001B[32m     44\u001B[39m \u001B[38;5;28;01mfrom\u001B[39;00m\u001B[38;5;250m \u001B[39m\u001B[34;01m.\u001B[39;00m\u001B[34;01m.\u001B[39;00m\u001B[34;01m.\u001B[39;00m\u001B[34;01mutils\u001B[39;00m\u001B[38;5;250m \u001B[39m\u001B[38;5;28;01mimport\u001B[39;00m add_start_docstrings, add_start_docstrings_to_model_forward, logging, replace_return_docstrings\n",
      "\u001B[36mFile \u001B[39m\u001B[32m~\\Desktop\\BA\\BA\\Bachelor_Arbeit_VQA\\venv\\Lib\\site-packages\\transformers\\modeling_utils.py:158\u001B[39m\n\u001B[32m    157\u001B[39m \u001B[38;5;28;01mif\u001B[39;00m is_deepspeed_available():\n\u001B[32m--> \u001B[39m\u001B[32m158\u001B[39m     \u001B[38;5;28;01mimport\u001B[39;00m\u001B[38;5;250m \u001B[39m\u001B[34;01mdeepspeed\u001B[39;00m\n\u001B[32m    160\u001B[39m logger = logging.get_logger(\u001B[34m__name__\u001B[39m)\n",
      "\u001B[36mFile \u001B[39m\u001B[32m~\\Desktop\\BA\\BA\\Bachelor_Arbeit_VQA\\venv\\Lib\\site-packages\\deepspeed\\__init__.py:25\u001B[39m\n\u001B[32m     23\u001B[39m     HAS_TRITON = \u001B[38;5;28;01mFalse\u001B[39;00m\n\u001B[32m---> \u001B[39m\u001B[32m25\u001B[39m \u001B[38;5;28;01mfrom\u001B[39;00m\u001B[38;5;250m \u001B[39m\u001B[34;01m.\u001B[39;00m\u001B[38;5;250m \u001B[39m\u001B[38;5;28;01mimport\u001B[39;00m ops\n\u001B[32m     26\u001B[39m \u001B[38;5;28;01mfrom\u001B[39;00m\u001B[38;5;250m \u001B[39m\u001B[34;01m.\u001B[39;00m\u001B[38;5;250m \u001B[39m\u001B[38;5;28;01mimport\u001B[39;00m module_inject\n",
      "\u001B[36mFile \u001B[39m\u001B[32m~\\Desktop\\BA\\BA\\Bachelor_Arbeit_VQA\\venv\\Lib\\site-packages\\deepspeed\\ops\\__init__.py:15\u001B[39m\n\u001B[32m     13\u001B[39m \u001B[38;5;28;01mfrom\u001B[39;00m\u001B[38;5;250m \u001B[39m\u001B[34;01m.\u001B[39;00m\u001B[34;01mtransformer\u001B[39;00m\u001B[38;5;250m \u001B[39m\u001B[38;5;28;01mimport\u001B[39;00m DeepSpeedTransformerLayer, DeepSpeedTransformerConfig\n\u001B[32m---> \u001B[39m\u001B[32m15\u001B[39m \u001B[38;5;28;01mfrom\u001B[39;00m\u001B[38;5;250m \u001B[39m\u001B[34;01m.\u001B[39;00m\u001B[34;01m.\u001B[39;00m\u001B[34;01mgit_version_info\u001B[39;00m\u001B[38;5;250m \u001B[39m\u001B[38;5;28;01mimport\u001B[39;00m compatible_ops \u001B[38;5;28;01mas\u001B[39;00m __compatible_ops__\n",
      "\u001B[36mFile \u001B[39m\u001B[32m~\\Desktop\\BA\\BA\\Bachelor_Arbeit_VQA\\venv\\Lib\\site-packages\\deepspeed\\git_version_info.py:29\u001B[39m\n\u001B[32m     28\u001B[39m \u001B[38;5;28;01mfor\u001B[39;00m op_name, builder \u001B[38;5;129;01min\u001B[39;00m ALL_OPS.items():\n\u001B[32m---> \u001B[39m\u001B[32m29\u001B[39m     op_compatible = \u001B[43mbuilder\u001B[49m\u001B[43m.\u001B[49m\u001B[43mis_compatible\u001B[49m\u001B[43m(\u001B[49m\u001B[43m)\u001B[49m\n\u001B[32m     30\u001B[39m     compatible_ops[op_name] = op_compatible\n",
      "\u001B[36mFile \u001B[39m\u001B[32m~\\Desktop\\BA\\BA\\Bachelor_Arbeit_VQA\\venv\\Lib\\site-packages\\deepspeed\\ops\\op_builder\\fp_quantizer.py:35\u001B[39m, in \u001B[36mFPQuantizerBuilder.is_compatible\u001B[39m\u001B[34m(self, verbose)\u001B[39m\n\u001B[32m     34\u001B[39m \u001B[38;5;28;01mif\u001B[39;00m \u001B[38;5;129;01mnot\u001B[39;00m \u001B[38;5;28mself\u001B[39m.is_rocm_pytorch() \u001B[38;5;129;01mand\u001B[39;00m torch.cuda.is_available():  \u001B[38;5;66;03m#ignore-cuda\u001B[39;00m\n\u001B[32m---> \u001B[39m\u001B[32m35\u001B[39m     sys_cuda_major, _ = \u001B[43minstalled_cuda_version\u001B[49m\u001B[43m(\u001B[49m\u001B[43m)\u001B[49m\n\u001B[32m     36\u001B[39m     torch_cuda_major = \u001B[38;5;28mint\u001B[39m(torch.version.cuda.split(\u001B[33m'\u001B[39m\u001B[33m.\u001B[39m\u001B[33m'\u001B[39m)[\u001B[32m0\u001B[39m])\n",
      "\u001B[36mFile \u001B[39m\u001B[32m~\\Desktop\\BA\\BA\\Bachelor_Arbeit_VQA\\venv\\Lib\\site-packages\\deepspeed\\ops\\op_builder\\builder.py:51\u001B[39m, in \u001B[36minstalled_cuda_version\u001B[39m\u001B[34m(name)\u001B[39m\n\u001B[32m     50\u001B[39m \u001B[38;5;28;01mif\u001B[39;00m cuda_home \u001B[38;5;129;01mis\u001B[39;00m \u001B[38;5;28;01mNone\u001B[39;00m:\n\u001B[32m---> \u001B[39m\u001B[32m51\u001B[39m     \u001B[38;5;28;01mraise\u001B[39;00m MissingCUDAException(\u001B[33m\"\u001B[39m\u001B[33mCUDA_HOME does not exist, unable to compile CUDA op(s)\u001B[39m\u001B[33m\"\u001B[39m)\n\u001B[32m     52\u001B[39m \u001B[38;5;66;03m# Ensure there is not a cuda version mismatch between torch and nvcc compiler\u001B[39;00m\n",
      "\u001B[31mMissingCUDAException\u001B[39m: CUDA_HOME does not exist, unable to compile CUDA op(s)",
      "\nThe above exception was the direct cause of the following exception:\n",
      "\u001B[31mRuntimeError\u001B[39m                              Traceback (most recent call last)",
      "\u001B[36mCell\u001B[39m\u001B[36m \u001B[39m\u001B[32mIn[1]\u001B[39m\u001B[32m, line 2\u001B[39m\n\u001B[32m      1\u001B[39m \u001B[38;5;28;01mimport\u001B[39;00m\u001B[38;5;250m \u001B[39m\u001B[34;01mtorch\u001B[39;00m\n\u001B[32m----> \u001B[39m\u001B[32m2\u001B[39m \u001B[38;5;28;01mfrom\u001B[39;00m\u001B[38;5;250m \u001B[39m\u001B[34;01mtransformers\u001B[39;00m\u001B[38;5;250m \u001B[39m\u001B[38;5;28;01mimport\u001B[39;00m AutoModelForVision2Seq, AutoProcessor, AutoTokenizer,Qwen2_5_VLForConditionalGeneration, Qwen2_5_VLProcessor, BitsAndBytesConfig\n\u001B[32m      3\u001B[39m \u001B[38;5;28;01mfrom\u001B[39;00m\u001B[38;5;250m \u001B[39m\u001B[34;01mpeft\u001B[39;00m\u001B[38;5;250m \u001B[39m\u001B[38;5;28;01mimport\u001B[39;00m LoraConfig, get_peft_model\n\u001B[32m      4\u001B[39m \u001B[38;5;28;01mfrom\u001B[39;00m\u001B[38;5;250m \u001B[39m\u001B[34;01mdatasets\u001B[39;00m\u001B[38;5;250m \u001B[39m\u001B[38;5;28;01mimport\u001B[39;00m load_from_disk, load_dataset\n",
      "\u001B[36mFile \u001B[39m\u001B[32m<frozen importlib._bootstrap>:1231\u001B[39m, in \u001B[36m_handle_fromlist\u001B[39m\u001B[34m(module, fromlist, import_, recursive)\u001B[39m\n",
      "\u001B[36mFile \u001B[39m\u001B[32m~\\Desktop\\BA\\BA\\Bachelor_Arbeit_VQA\\venv\\Lib\\site-packages\\transformers\\utils\\import_utils.py:1956\u001B[39m, in \u001B[36m_LazyModule.__getattr__\u001B[39m\u001B[34m(self, name)\u001B[39m\n\u001B[32m   1954\u001B[39m \u001B[38;5;28;01melif\u001B[39;00m name \u001B[38;5;129;01min\u001B[39;00m \u001B[38;5;28mself\u001B[39m._class_to_module.keys():\n\u001B[32m   1955\u001B[39m     module = \u001B[38;5;28mself\u001B[39m._get_module(\u001B[38;5;28mself\u001B[39m._class_to_module[name])\n\u001B[32m-> \u001B[39m\u001B[32m1956\u001B[39m     value = \u001B[38;5;28mgetattr\u001B[39m(module, name)\n\u001B[32m   1957\u001B[39m \u001B[38;5;28;01melif\u001B[39;00m name \u001B[38;5;129;01min\u001B[39;00m \u001B[38;5;28mself\u001B[39m._modules:\n\u001B[32m   1958\u001B[39m     value = \u001B[38;5;28mself\u001B[39m._get_module(name)\n",
      "\u001B[36mFile \u001B[39m\u001B[32m~\\Desktop\\BA\\BA\\Bachelor_Arbeit_VQA\\venv\\Lib\\site-packages\\transformers\\utils\\import_utils.py:1955\u001B[39m, in \u001B[36m_LazyModule.__getattr__\u001B[39m\u001B[34m(self, name)\u001B[39m\n\u001B[32m   1953\u001B[39m     value = Placeholder\n\u001B[32m   1954\u001B[39m \u001B[38;5;28;01melif\u001B[39;00m name \u001B[38;5;129;01min\u001B[39;00m \u001B[38;5;28mself\u001B[39m._class_to_module.keys():\n\u001B[32m-> \u001B[39m\u001B[32m1955\u001B[39m     module = \u001B[38;5;28;43mself\u001B[39;49m\u001B[43m.\u001B[49m\u001B[43m_get_module\u001B[49m\u001B[43m(\u001B[49m\u001B[38;5;28;43mself\u001B[39;49m\u001B[43m.\u001B[49m\u001B[43m_class_to_module\u001B[49m\u001B[43m[\u001B[49m\u001B[43mname\u001B[49m\u001B[43m]\u001B[49m\u001B[43m)\u001B[49m\n\u001B[32m   1956\u001B[39m     value = \u001B[38;5;28mgetattr\u001B[39m(module, name)\n\u001B[32m   1957\u001B[39m \u001B[38;5;28;01melif\u001B[39;00m name \u001B[38;5;129;01min\u001B[39;00m \u001B[38;5;28mself\u001B[39m._modules:\n",
      "\u001B[36mFile \u001B[39m\u001B[32m~\\Desktop\\BA\\BA\\Bachelor_Arbeit_VQA\\venv\\Lib\\site-packages\\transformers\\utils\\import_utils.py:1969\u001B[39m, in \u001B[36m_LazyModule._get_module\u001B[39m\u001B[34m(self, module_name)\u001B[39m\n\u001B[32m   1967\u001B[39m     \u001B[38;5;28;01mreturn\u001B[39;00m importlib.import_module(\u001B[33m\"\u001B[39m\u001B[33m.\u001B[39m\u001B[33m\"\u001B[39m + module_name, \u001B[38;5;28mself\u001B[39m.\u001B[34m__name__\u001B[39m)\n\u001B[32m   1968\u001B[39m \u001B[38;5;28;01mexcept\u001B[39;00m \u001B[38;5;167;01mException\u001B[39;00m \u001B[38;5;28;01mas\u001B[39;00m e:\n\u001B[32m-> \u001B[39m\u001B[32m1969\u001B[39m     \u001B[38;5;28;01mraise\u001B[39;00m \u001B[38;5;167;01mRuntimeError\u001B[39;00m(\n\u001B[32m   1970\u001B[39m         \u001B[33mf\u001B[39m\u001B[33m\"\u001B[39m\u001B[33mFailed to import \u001B[39m\u001B[38;5;132;01m{\u001B[39;00m\u001B[38;5;28mself\u001B[39m.\u001B[34m__name__\u001B[39m\u001B[38;5;132;01m}\u001B[39;00m\u001B[33m.\u001B[39m\u001B[38;5;132;01m{\u001B[39;00mmodule_name\u001B[38;5;132;01m}\u001B[39;00m\u001B[33m because of the following error (look up to see its\u001B[39m\u001B[33m\"\u001B[39m\n\u001B[32m   1971\u001B[39m         \u001B[33mf\u001B[39m\u001B[33m\"\u001B[39m\u001B[33m traceback):\u001B[39m\u001B[38;5;130;01m\\n\u001B[39;00m\u001B[38;5;132;01m{\u001B[39;00me\u001B[38;5;132;01m}\u001B[39;00m\u001B[33m\"\u001B[39m\n\u001B[32m   1972\u001B[39m     ) \u001B[38;5;28;01mfrom\u001B[39;00m\u001B[38;5;250m \u001B[39m\u001B[34;01me\u001B[39;00m\n",
      "\u001B[31mRuntimeError\u001B[39m: Failed to import transformers.models.qwen2_5_vl.modeling_qwen2_5_vl because of the following error (look up to see its traceback):\nCUDA_HOME does not exist, unable to compile CUDA op(s)"
     ]
    }
   ],
   "execution_count": 1
  },
  {
   "cell_type": "code",
   "source": [
    "!pip3 install bitsandbytes peft trl"
   ],
   "metadata": {
    "trusted": true,
    "execution": {
     "iopub.status.busy": "2025-03-28T09:51:23.620567Z",
     "iopub.execute_input": "2025-03-28T09:51:23.620942Z",
     "iopub.status.idle": "2025-03-28T09:51:27.873345Z",
     "shell.execute_reply.started": "2025-03-28T09:51:23.620912Z",
     "shell.execute_reply": "2025-03-28T09:51:27.872332Z"
    }
   },
   "outputs": [
    {
     "name": "stdout",
     "text": "Requirement already satisfied: bitsandbytes in /usr/local/lib/python3.10/dist-packages (0.45.4)\nRequirement already satisfied: peft in /usr/local/lib/python3.10/dist-packages (0.14.0)\nCollecting trl\n  Downloading trl-0.16.0-py3-none-any.whl.metadata (12 kB)\nRequirement already satisfied: torch<3,>=2.0 in /usr/local/lib/python3.10/dist-packages (from bitsandbytes) (2.5.1+cu121)\nRequirement already satisfied: numpy>=1.17 in /usr/local/lib/python3.10/dist-packages (from bitsandbytes) (1.26.4)\nRequirement already satisfied: packaging>=20.0 in /usr/local/lib/python3.10/dist-packages (from peft) (24.2)\nRequirement already satisfied: psutil in /usr/local/lib/python3.10/dist-packages (from peft) (5.9.5)\nRequirement already satisfied: pyyaml in /usr/local/lib/python3.10/dist-packages (from peft) (6.0.2)\nRequirement already satisfied: transformers in /usr/local/lib/python3.10/dist-packages (from peft) (4.51.0.dev0)\nRequirement already satisfied: tqdm in /usr/local/lib/python3.10/dist-packages (from peft) (4.67.1)\nRequirement already satisfied: accelerate>=0.21.0 in /usr/local/lib/python3.10/dist-packages (from peft) (1.2.1)\nRequirement already satisfied: safetensors in /usr/local/lib/python3.10/dist-packages (from peft) (0.4.5)\nRequirement already satisfied: huggingface-hub>=0.25.0 in /usr/local/lib/python3.10/dist-packages (from peft) (0.29.0)\nRequirement already satisfied: datasets>=3.0.0 in /usr/local/lib/python3.10/dist-packages (from trl) (3.3.1)\nRequirement already satisfied: rich in /usr/local/lib/python3.10/dist-packages (from trl) (13.9.4)\nRequirement already satisfied: filelock in /usr/local/lib/python3.10/dist-packages (from datasets>=3.0.0->trl) (3.17.0)\nRequirement already satisfied: pyarrow>=15.0.0 in /usr/local/lib/python3.10/dist-packages (from datasets>=3.0.0->trl) (19.0.1)\nRequirement already satisfied: dill<0.3.9,>=0.3.0 in /usr/local/lib/python3.10/dist-packages (from datasets>=3.0.0->trl) (0.3.8)\nRequirement already satisfied: pandas in /usr/local/lib/python3.10/dist-packages (from datasets>=3.0.0->trl) (2.2.3)\nRequirement already satisfied: requests>=2.32.2 in /usr/local/lib/python3.10/dist-packages (from datasets>=3.0.0->trl) (2.32.3)\nRequirement already satisfied: xxhash in /usr/local/lib/python3.10/dist-packages (from datasets>=3.0.0->trl) (3.5.0)\nRequirement already satisfied: multiprocess<0.70.17 in /usr/local/lib/python3.10/dist-packages (from datasets>=3.0.0->trl) (0.70.16)\nRequirement already satisfied: fsspec<=2024.12.0,>=2023.1.0 in /usr/local/lib/python3.10/dist-packages (from fsspec[http]<=2024.12.0,>=2023.1.0->datasets>=3.0.0->trl) (2024.12.0)\nRequirement already satisfied: aiohttp in /usr/local/lib/python3.10/dist-packages (from datasets>=3.0.0->trl) (3.11.12)\nRequirement already satisfied: typing-extensions>=3.7.4.3 in /usr/local/lib/python3.10/dist-packages (from huggingface-hub>=0.25.0->peft) (4.12.2)\nRequirement already satisfied: mkl_fft in /usr/local/lib/python3.10/dist-packages (from numpy>=1.17->bitsandbytes) (1.3.8)\nRequirement already satisfied: mkl_random in /usr/local/lib/python3.10/dist-packages (from numpy>=1.17->bitsandbytes) (1.2.4)\nRequirement already satisfied: mkl_umath in /usr/local/lib/python3.10/dist-packages (from numpy>=1.17->bitsandbytes) (0.1.1)\nRequirement already satisfied: mkl in /usr/local/lib/python3.10/dist-packages (from numpy>=1.17->bitsandbytes) (2025.0.1)\nRequirement already satisfied: tbb4py in /usr/local/lib/python3.10/dist-packages (from numpy>=1.17->bitsandbytes) (2022.0.0)\nRequirement already satisfied: mkl-service in /usr/local/lib/python3.10/dist-packages (from numpy>=1.17->bitsandbytes) (2.4.1)\nRequirement already satisfied: networkx in /usr/local/lib/python3.10/dist-packages (from torch<3,>=2.0->bitsandbytes) (3.4.2)\nRequirement already satisfied: jinja2 in /usr/local/lib/python3.10/dist-packages (from torch<3,>=2.0->bitsandbytes) (3.1.4)\nRequirement already satisfied: sympy==1.13.1 in /usr/local/lib/python3.10/dist-packages (from torch<3,>=2.0->bitsandbytes) (1.13.1)\nRequirement already satisfied: mpmath<1.4,>=1.1.0 in /usr/local/lib/python3.10/dist-packages (from sympy==1.13.1->torch<3,>=2.0->bitsandbytes) (1.3.0)\nRequirement already satisfied: regex!=2019.12.17 in /usr/local/lib/python3.10/dist-packages (from transformers->peft) (2024.11.6)\nRequirement already satisfied: tokenizers<0.22,>=0.21 in /usr/local/lib/python3.10/dist-packages (from transformers->peft) (0.21.0)\nRequirement already satisfied: markdown-it-py>=2.2.0 in /usr/local/lib/python3.10/dist-packages (from rich->trl) (3.0.0)\nRequirement already satisfied: pygments<3.0.0,>=2.13.0 in /usr/local/lib/python3.10/dist-packages (from rich->trl) (2.19.1)\nRequirement already satisfied: aiohappyeyeballs>=2.3.0 in /usr/local/lib/python3.10/dist-packages (from aiohttp->datasets>=3.0.0->trl) (2.4.6)\nRequirement already satisfied: aiosignal>=1.1.2 in /usr/local/lib/python3.10/dist-packages (from aiohttp->datasets>=3.0.0->trl) (1.3.2)\nRequirement already satisfied: async-timeout<6.0,>=4.0 in /usr/local/lib/python3.10/dist-packages (from aiohttp->datasets>=3.0.0->trl) (5.0.1)\nRequirement already satisfied: attrs>=17.3.0 in /usr/local/lib/python3.10/dist-packages (from aiohttp->datasets>=3.0.0->trl) (25.1.0)\nRequirement already satisfied: frozenlist>=1.1.1 in /usr/local/lib/python3.10/dist-packages (from aiohttp->datasets>=3.0.0->trl) (1.5.0)\nRequirement already satisfied: multidict<7.0,>=4.5 in /usr/local/lib/python3.10/dist-packages (from aiohttp->datasets>=3.0.0->trl) (6.1.0)\nRequirement already satisfied: propcache>=0.2.0 in /usr/local/lib/python3.10/dist-packages (from aiohttp->datasets>=3.0.0->trl) (0.2.1)\nRequirement already satisfied: yarl<2.0,>=1.17.0 in /usr/local/lib/python3.10/dist-packages (from aiohttp->datasets>=3.0.0->trl) (1.18.3)\nRequirement already satisfied: mdurl~=0.1 in /usr/local/lib/python3.10/dist-packages (from markdown-it-py>=2.2.0->rich->trl) (0.1.2)\nRequirement already satisfied: charset-normalizer<4,>=2 in /usr/local/lib/python3.10/dist-packages (from requests>=2.32.2->datasets>=3.0.0->trl) (3.4.1)\nRequirement already satisfied: idna<4,>=2.5 in /usr/local/lib/python3.10/dist-packages (from requests>=2.32.2->datasets>=3.0.0->trl) (3.10)\nRequirement already satisfied: urllib3<3,>=1.21.1 in /usr/local/lib/python3.10/dist-packages (from requests>=2.32.2->datasets>=3.0.0->trl) (2.3.0)\nRequirement already satisfied: certifi>=2017.4.17 in /usr/local/lib/python3.10/dist-packages (from requests>=2.32.2->datasets>=3.0.0->trl) (2025.1.31)\nRequirement already satisfied: MarkupSafe>=2.0 in /usr/local/lib/python3.10/dist-packages (from jinja2->torch<3,>=2.0->bitsandbytes) (3.0.2)\nRequirement already satisfied: intel-openmp>=2024 in /usr/local/lib/python3.10/dist-packages (from mkl->numpy>=1.17->bitsandbytes) (2024.2.0)\nRequirement already satisfied: tbb==2022.* in /usr/local/lib/python3.10/dist-packages (from mkl->numpy>=1.17->bitsandbytes) (2022.0.0)\nRequirement already satisfied: tcmlib==1.* in /usr/local/lib/python3.10/dist-packages (from tbb==2022.*->mkl->numpy>=1.17->bitsandbytes) (1.2.0)\nRequirement already satisfied: intel-cmplr-lib-rt in /usr/local/lib/python3.10/dist-packages (from mkl_umath->numpy>=1.17->bitsandbytes) (2024.2.0)\nRequirement already satisfied: python-dateutil>=2.8.2 in /usr/local/lib/python3.10/dist-packages (from pandas->datasets>=3.0.0->trl) (2.9.0.post0)\nRequirement already satisfied: pytz>=2020.1 in /usr/local/lib/python3.10/dist-packages (from pandas->datasets>=3.0.0->trl) (2025.1)\nRequirement already satisfied: tzdata>=2022.7 in /usr/local/lib/python3.10/dist-packages (from pandas->datasets>=3.0.0->trl) (2025.1)\nRequirement already satisfied: intel-cmplr-lib-ur==2024.2.0 in /usr/local/lib/python3.10/dist-packages (from intel-openmp>=2024->mkl->numpy>=1.17->bitsandbytes) (2024.2.0)\nRequirement already satisfied: six>=1.5 in /usr/local/lib/python3.10/dist-packages (from python-dateutil>=2.8.2->pandas->datasets>=3.0.0->trl) (1.17.0)\nDownloading trl-0.16.0-py3-none-any.whl (335 kB)\n\u001B[2K   \u001B[90m━━━━━━━━━━━━━━━━━━━━━━━━━━━━━━━━━━━━━━━━\u001B[0m \u001B[32m335.7/335.7 kB\u001B[0m \u001B[31m7.6 MB/s\u001B[0m eta \u001B[36m0:00:00\u001B[0m:00:01\u001B[0m\n\u001B[?25hInstalling collected packages: trl\nSuccessfully installed trl-0.16.0\n",
     "output_type": "stream"
    }
   ],
   "execution_count": 35
  },
  {
   "cell_type": "code",
   "source": [
    "!pip install git+https://github.com/huggingface/transformers accelerate\n",
    "\n",
    "\n"
   ],
   "metadata": {
    "trusted": true,
    "execution": {
     "iopub.status.busy": "2025-03-28T08:45:01.545574Z",
     "iopub.execute_input": "2025-03-28T08:45:01.545924Z",
     "iopub.status.idle": "2025-03-28T08:45:36.099912Z",
     "shell.execute_reply.started": "2025-03-28T08:45:01.545896Z",
     "shell.execute_reply": "2025-03-28T08:45:36.098779Z"
    }
   },
   "outputs": [
    {
     "name": "stdout",
     "text": "Collecting git+https://github.com/huggingface/transformers\n  Cloning https://github.com/huggingface/transformers to /tmp/pip-req-build-eqzgs9cp\n  Running command git clone --filter=blob:none --quiet https://github.com/huggingface/transformers /tmp/pip-req-build-eqzgs9cp\n  Resolved https://github.com/huggingface/transformers to commit 348f3285c5114159d2ff4933b4b8ae36866d01a7\n  Installing build dependencies ... \u001B[?25l\u001B[?25hdone\n  Getting requirements to build wheel ... \u001B[?25l\u001B[?25hdone\n  Preparing metadata (pyproject.toml) ... \u001B[?25l\u001B[?25hdone\nRequirement already satisfied: accelerate in /usr/local/lib/python3.10/dist-packages (1.2.1)\nRequirement already satisfied: filelock in /usr/local/lib/python3.10/dist-packages (from transformers==4.51.0.dev0) (3.17.0)\nRequirement already satisfied: huggingface-hub<1.0,>=0.26.0 in /usr/local/lib/python3.10/dist-packages (from transformers==4.51.0.dev0) (0.29.0)\nRequirement already satisfied: numpy>=1.17 in /usr/local/lib/python3.10/dist-packages (from transformers==4.51.0.dev0) (1.26.4)\nRequirement already satisfied: packaging>=20.0 in /usr/local/lib/python3.10/dist-packages (from transformers==4.51.0.dev0) (24.2)\nRequirement already satisfied: pyyaml>=5.1 in /usr/local/lib/python3.10/dist-packages (from transformers==4.51.0.dev0) (6.0.2)\nRequirement already satisfied: regex!=2019.12.17 in /usr/local/lib/python3.10/dist-packages (from transformers==4.51.0.dev0) (2024.11.6)\nRequirement already satisfied: requests in /usr/local/lib/python3.10/dist-packages (from transformers==4.51.0.dev0) (2.32.3)\nRequirement already satisfied: tokenizers<0.22,>=0.21 in /usr/local/lib/python3.10/dist-packages (from transformers==4.51.0.dev0) (0.21.0)\nRequirement already satisfied: safetensors>=0.4.3 in /usr/local/lib/python3.10/dist-packages (from transformers==4.51.0.dev0) (0.4.5)\nRequirement already satisfied: tqdm>=4.27 in /usr/local/lib/python3.10/dist-packages (from transformers==4.51.0.dev0) (4.67.1)\nRequirement already satisfied: psutil in /usr/local/lib/python3.10/dist-packages (from accelerate) (5.9.5)\nRequirement already satisfied: torch>=1.10.0 in /usr/local/lib/python3.10/dist-packages (from accelerate) (2.5.1+cu121)\nRequirement already satisfied: fsspec>=2023.5.0 in /usr/local/lib/python3.10/dist-packages (from huggingface-hub<1.0,>=0.26.0->transformers==4.51.0.dev0) (2024.12.0)\nRequirement already satisfied: typing-extensions>=3.7.4.3 in /usr/local/lib/python3.10/dist-packages (from huggingface-hub<1.0,>=0.26.0->transformers==4.51.0.dev0) (4.12.2)\nRequirement already satisfied: mkl_fft in /usr/local/lib/python3.10/dist-packages (from numpy>=1.17->transformers==4.51.0.dev0) (1.3.8)\nRequirement already satisfied: mkl_random in /usr/local/lib/python3.10/dist-packages (from numpy>=1.17->transformers==4.51.0.dev0) (1.2.4)\nRequirement already satisfied: mkl_umath in /usr/local/lib/python3.10/dist-packages (from numpy>=1.17->transformers==4.51.0.dev0) (0.1.1)\nRequirement already satisfied: mkl in /usr/local/lib/python3.10/dist-packages (from numpy>=1.17->transformers==4.51.0.dev0) (2025.0.1)\nRequirement already satisfied: tbb4py in /usr/local/lib/python3.10/dist-packages (from numpy>=1.17->transformers==4.51.0.dev0) (2022.0.0)\nRequirement already satisfied: mkl-service in /usr/local/lib/python3.10/dist-packages (from numpy>=1.17->transformers==4.51.0.dev0) (2.4.1)\nRequirement already satisfied: networkx in /usr/local/lib/python3.10/dist-packages (from torch>=1.10.0->accelerate) (3.4.2)\nRequirement already satisfied: jinja2 in /usr/local/lib/python3.10/dist-packages (from torch>=1.10.0->accelerate) (3.1.4)\nRequirement already satisfied: sympy==1.13.1 in /usr/local/lib/python3.10/dist-packages (from torch>=1.10.0->accelerate) (1.13.1)\nRequirement already satisfied: mpmath<1.4,>=1.1.0 in /usr/local/lib/python3.10/dist-packages (from sympy==1.13.1->torch>=1.10.0->accelerate) (1.3.0)\nRequirement already satisfied: charset-normalizer<4,>=2 in /usr/local/lib/python3.10/dist-packages (from requests->transformers==4.51.0.dev0) (3.4.1)\nRequirement already satisfied: idna<4,>=2.5 in /usr/local/lib/python3.10/dist-packages (from requests->transformers==4.51.0.dev0) (3.10)\nRequirement already satisfied: urllib3<3,>=1.21.1 in /usr/local/lib/python3.10/dist-packages (from requests->transformers==4.51.0.dev0) (2.3.0)\nRequirement already satisfied: certifi>=2017.4.17 in /usr/local/lib/python3.10/dist-packages (from requests->transformers==4.51.0.dev0) (2025.1.31)\nRequirement already satisfied: MarkupSafe>=2.0 in /usr/local/lib/python3.10/dist-packages (from jinja2->torch>=1.10.0->accelerate) (3.0.2)\nRequirement already satisfied: intel-openmp>=2024 in /usr/local/lib/python3.10/dist-packages (from mkl->numpy>=1.17->transformers==4.51.0.dev0) (2024.2.0)\nRequirement already satisfied: tbb==2022.* in /usr/local/lib/python3.10/dist-packages (from mkl->numpy>=1.17->transformers==4.51.0.dev0) (2022.0.0)\nRequirement already satisfied: tcmlib==1.* in /usr/local/lib/python3.10/dist-packages (from tbb==2022.*->mkl->numpy>=1.17->transformers==4.51.0.dev0) (1.2.0)\nRequirement already satisfied: intel-cmplr-lib-rt in /usr/local/lib/python3.10/dist-packages (from mkl_umath->numpy>=1.17->transformers==4.51.0.dev0) (2024.2.0)\nRequirement already satisfied: intel-cmplr-lib-ur==2024.2.0 in /usr/local/lib/python3.10/dist-packages (from intel-openmp>=2024->mkl->numpy>=1.17->transformers==4.51.0.dev0) (2024.2.0)\nBuilding wheels for collected packages: transformers\n  Building wheel for transformers (pyproject.toml) ... \u001B[?25l\u001B[?25hdone\n  Created wheel for transformers: filename=transformers-4.51.0.dev0-py3-none-any.whl size=11069858 sha256=496a65a6ed637fc642452cab5ca607eb68280324745a64c32a021494f9df1d37\n  Stored in directory: /tmp/pip-ephem-wheel-cache-pfd9vajd/wheels/c0/14/d6/6c9a5582d2ac191ec0a483be151a4495fe1eb2a6706ca49f1b\nSuccessfully built transformers\nInstalling collected packages: transformers\n  Attempting uninstall: transformers\n    Found existing installation: transformers 4.47.0\n    Uninstalling transformers-4.47.0:\n      Successfully uninstalled transformers-4.47.0\nSuccessfully installed transformers-4.51.0.dev0\n",
     "output_type": "stream"
    }
   ],
   "execution_count": 2
  },
  {
   "cell_type": "code",
   "source": [
    "pip install qwen-vl-utils[decord]==0.0.8"
   ],
   "metadata": {
    "trusted": true,
    "execution": {
     "iopub.status.busy": "2025-03-28T08:45:36.101413Z",
     "iopub.execute_input": "2025-03-28T08:45:36.101723Z",
     "iopub.status.idle": "2025-03-28T08:45:42.168586Z",
     "shell.execute_reply.started": "2025-03-28T08:45:36.101693Z",
     "shell.execute_reply": "2025-03-28T08:45:42.167479Z"
    }
   },
   "outputs": [
    {
     "name": "stdout",
     "text": "Collecting qwen-vl-utils==0.0.8 (from qwen-vl-utils[decord]==0.0.8)\n  Downloading qwen_vl_utils-0.0.8-py3-none-any.whl.metadata (3.6 kB)\nCollecting av (from qwen-vl-utils==0.0.8->qwen-vl-utils[decord]==0.0.8)\n  Downloading av-14.2.0-cp310-cp310-manylinux_2_17_x86_64.manylinux2014_x86_64.whl.metadata (4.6 kB)\nRequirement already satisfied: packaging in /usr/local/lib/python3.10/dist-packages (from qwen-vl-utils==0.0.8->qwen-vl-utils[decord]==0.0.8) (24.2)\nRequirement already satisfied: pillow in /usr/local/lib/python3.10/dist-packages (from qwen-vl-utils==0.0.8->qwen-vl-utils[decord]==0.0.8) (11.0.0)\nRequirement already satisfied: requests in /usr/local/lib/python3.10/dist-packages (from qwen-vl-utils==0.0.8->qwen-vl-utils[decord]==0.0.8) (2.32.3)\nCollecting decord (from qwen-vl-utils[decord]==0.0.8)\n  Downloading decord-0.6.0-py3-none-manylinux2010_x86_64.whl.metadata (422 bytes)\nRequirement already satisfied: numpy>=1.14.0 in /usr/local/lib/python3.10/dist-packages (from decord->qwen-vl-utils[decord]==0.0.8) (1.26.4)\nRequirement already satisfied: charset-normalizer<4,>=2 in /usr/local/lib/python3.10/dist-packages (from requests->qwen-vl-utils==0.0.8->qwen-vl-utils[decord]==0.0.8) (3.4.1)\nRequirement already satisfied: idna<4,>=2.5 in /usr/local/lib/python3.10/dist-packages (from requests->qwen-vl-utils==0.0.8->qwen-vl-utils[decord]==0.0.8) (3.10)\nRequirement already satisfied: urllib3<3,>=1.21.1 in /usr/local/lib/python3.10/dist-packages (from requests->qwen-vl-utils==0.0.8->qwen-vl-utils[decord]==0.0.8) (2.3.0)\nRequirement already satisfied: certifi>=2017.4.17 in /usr/local/lib/python3.10/dist-packages (from requests->qwen-vl-utils==0.0.8->qwen-vl-utils[decord]==0.0.8) (2025.1.31)\nRequirement already satisfied: mkl_fft in /usr/local/lib/python3.10/dist-packages (from numpy>=1.14.0->decord->qwen-vl-utils[decord]==0.0.8) (1.3.8)\nRequirement already satisfied: mkl_random in /usr/local/lib/python3.10/dist-packages (from numpy>=1.14.0->decord->qwen-vl-utils[decord]==0.0.8) (1.2.4)\nRequirement already satisfied: mkl_umath in /usr/local/lib/python3.10/dist-packages (from numpy>=1.14.0->decord->qwen-vl-utils[decord]==0.0.8) (0.1.1)\nRequirement already satisfied: mkl in /usr/local/lib/python3.10/dist-packages (from numpy>=1.14.0->decord->qwen-vl-utils[decord]==0.0.8) (2025.0.1)\nRequirement already satisfied: tbb4py in /usr/local/lib/python3.10/dist-packages (from numpy>=1.14.0->decord->qwen-vl-utils[decord]==0.0.8) (2022.0.0)\nRequirement already satisfied: mkl-service in /usr/local/lib/python3.10/dist-packages (from numpy>=1.14.0->decord->qwen-vl-utils[decord]==0.0.8) (2.4.1)\nRequirement already satisfied: intel-openmp>=2024 in /usr/local/lib/python3.10/dist-packages (from mkl->numpy>=1.14.0->decord->qwen-vl-utils[decord]==0.0.8) (2024.2.0)\nRequirement already satisfied: tbb==2022.* in /usr/local/lib/python3.10/dist-packages (from mkl->numpy>=1.14.0->decord->qwen-vl-utils[decord]==0.0.8) (2022.0.0)\nRequirement already satisfied: tcmlib==1.* in /usr/local/lib/python3.10/dist-packages (from tbb==2022.*->mkl->numpy>=1.14.0->decord->qwen-vl-utils[decord]==0.0.8) (1.2.0)\nRequirement already satisfied: intel-cmplr-lib-rt in /usr/local/lib/python3.10/dist-packages (from mkl_umath->numpy>=1.14.0->decord->qwen-vl-utils[decord]==0.0.8) (2024.2.0)\nRequirement already satisfied: intel-cmplr-lib-ur==2024.2.0 in /usr/local/lib/python3.10/dist-packages (from intel-openmp>=2024->mkl->numpy>=1.14.0->decord->qwen-vl-utils[decord]==0.0.8) (2024.2.0)\nDownloading qwen_vl_utils-0.0.8-py3-none-any.whl (5.9 kB)\nDownloading av-14.2.0-cp310-cp310-manylinux_2_17_x86_64.manylinux2014_x86_64.whl (38.8 MB)\n\u001B[2K   \u001B[90m━━━━━━━━━━━━━━━━━━━━━━━━━━━━━━━━━━━━━━━━\u001B[0m \u001B[32m38.8/38.8 MB\u001B[0m \u001B[31m48.1 MB/s\u001B[0m eta \u001B[36m0:00:00\u001B[0m:00:01\u001B[0m00:01\u001B[0m\n\u001B[?25hDownloading decord-0.6.0-py3-none-manylinux2010_x86_64.whl (13.6 MB)\n\u001B[2K   \u001B[90m━━━━━━━━━━━━━━━━━━━━━━━━━━━━━━━━━━━━━━━━\u001B[0m \u001B[32m13.6/13.6 MB\u001B[0m \u001B[31m104.1 MB/s\u001B[0m eta \u001B[36m0:00:00\u001B[0m00:01\u001B[0m0:01\u001B[0m\n\u001B[?25hInstalling collected packages: av, qwen-vl-utils, decord\nSuccessfully installed av-14.2.0 decord-0.6.0 qwen-vl-utils-0.0.8\nNote: you may need to restart the kernel to use updated packages.\n",
     "output_type": "stream"
    }
   ],
   "execution_count": 3
  },
  {
   "cell_type": "code",
   "source": [
    "os.environ[\"WANDB_DISABLED\"] = \"true\"\n",
    "import warnings\n",
    "warnings.filterwarnings(\"ignore\")\n",
    "\n"
   ],
   "metadata": {
    "trusted": true,
    "execution": {
     "iopub.status.busy": "2025-03-28T10:11:56.171396Z",
     "iopub.execute_input": "2025-03-28T10:11:56.171907Z",
     "iopub.status.idle": "2025-03-28T10:11:56.178129Z",
     "shell.execute_reply.started": "2025-03-28T10:11:56.171868Z",
     "shell.execute_reply": "2025-03-28T10:11:56.176927Z"
    }
   },
   "outputs": [],
   "execution_count": 63
  },
  {
   "cell_type": "code",
   "source": [
    "device = \"cuda\" if torch.cuda.is_available() else \"cpu\""
   ],
   "metadata": {
    "trusted": true,
    "execution": {
     "iopub.status.busy": "2025-03-28T10:11:58.778747Z",
     "iopub.execute_input": "2025-03-28T10:11:58.779141Z",
     "iopub.status.idle": "2025-03-28T10:11:58.783583Z",
     "shell.execute_reply.started": "2025-03-28T10:11:58.779112Z",
     "shell.execute_reply": "2025-03-28T10:11:58.782554Z"
    }
   },
   "outputs": [],
   "execution_count": 64
  },
  {
   "cell_type": "code",
   "source": [
    "device"
   ],
   "metadata": {
    "trusted": true,
    "execution": {
     "iopub.status.busy": "2025-03-28T10:12:00.140744Z",
     "iopub.execute_input": "2025-03-28T10:12:00.141153Z",
     "iopub.status.idle": "2025-03-28T10:12:00.146975Z",
     "shell.execute_reply.started": "2025-03-28T10:12:00.141123Z",
     "shell.execute_reply": "2025-03-28T10:12:00.145847Z"
    }
   },
   "outputs": [
    {
     "execution_count": 65,
     "output_type": "execute_result",
     "data": {
      "text/plain": "'cuda'"
     },
     "metadata": {}
    }
   ],
   "execution_count": 65
  },
  {
   "cell_type": "code",
   "source": [
    "MODEL_ID = \"Qwen/Qwen2.5-VL-3B-Instruct\"\n",
    "EPOCHS = 1\n",
    "BATCH_SIZE = 1\n",
    "GRADIENT_CHECKPOINTING = True #Tradeoff between memory efficenecy and compution time\n",
    "USE_REENTRANT = False\n",
    "OPTIM = \"paged_adamw_32bit\"\n",
    "LEARNING_RATE = 2e-5\n",
    "LOGGING_STEPS = 50\n",
    "EVAL_STEPS = 50\n",
    "SAVE_STEPS = 100\n",
    "EVAL_STRATEGY = \"steps\"\n",
    "SAVE_STRATEGY = \"steps\"\n",
    "METRIC_FOR_BEST_MODEL = \"eval_loss\"\n",
    "LOAD_BEST_MODEL_AT_END=True\n",
    "MAX_GRAD_NORM = 1\n",
    "WARMUP_STEPS = 0\n",
    "DATASET_KWARGS={\"skip_prepare_dataset\": True}\n",
    "REMOVE_UNUSED_COLUMNS = False\n",
    "MAX_SEQ_LEN=128\n",
    "NUM_STEPS = ( 283 // BATCH_SIZE) * EPOCHS\n",
    "print(f\"NUM_STEPS: {NUM_STEPS}\")"
   ],
   "metadata": {
    "trusted": true,
    "execution": {
     "iopub.status.busy": "2025-03-28T10:12:15.907945Z",
     "iopub.execute_input": "2025-03-28T10:12:15.908268Z",
     "iopub.status.idle": "2025-03-28T10:12:15.914937Z",
     "shell.execute_reply.started": "2025-03-28T10:12:15.908244Z",
     "shell.execute_reply": "2025-03-28T10:12:15.913766Z"
    }
   },
   "outputs": [
    {
     "name": "stdout",
     "text": "NUM_STEPS: 283\n",
     "output_type": "stream"
    }
   ],
   "execution_count": 67
  },
  {
   "cell_type": "code",
   "source": [
    "system_message = \"\"\"\"You are a medical pathology expert. Your task is to answer medical questions based solely on the visual information in the provided pathology image. Focus only on what is visible in the image — do not rely on prior medical knowledge, assumptions, or external information. Your responses should be short, factual, and medically precise, using appropriate terminology. Do not include any explanations, reasoning, or additional text. Use a consistent format, without punctuation, and avoid capitalisation unless medically required. Only return the exact answer.\"\"\"\n",
    "\n",
    "def format_data(sample):\n",
    "    # Erwartet in jeder Sample-Zeile:\n",
    "    #   {\"image\": <PIL.Image>, \"question\": <str>, \"answer\": <str>}\n",
    "    return [\n",
    "        {\n",
    "            \"role\": \"system\",\n",
    "            \"content\": [\n",
    "                {\"type\": \"text\", \"text\": system_message}\n",
    "            ],\n",
    "        },\n",
    "        {\n",
    "            \"role\": \"user\",\n",
    "            \"content\": [\n",
    "                {\n",
    "                    \"type\": \"image\",\n",
    "                    \"image\": sample[\"image\"], \n",
    "                },\n",
    "                {\n",
    "                    \"type\": \"text\",\n",
    "                    \"text\": sample[\"question\"],\n",
    "                },\n",
    "            ],\n",
    "        },\n",
    "        {\n",
    "            \"role\": \"assistant\",\n",
    "            \"content\": [\n",
    "                {\"type\": \"text\", \"text\": sample[\"answer\"]}\n",
    "            ],\n",
    "        },\n",
    "    ]\n",
    "\n"
   ],
   "metadata": {
    "trusted": true,
    "execution": {
     "iopub.status.busy": "2025-03-28T10:12:19.375512Z",
     "iopub.execute_input": "2025-03-28T10:12:19.375907Z",
     "iopub.status.idle": "2025-03-28T10:12:19.381652Z",
     "shell.execute_reply.started": "2025-03-28T10:12:19.375874Z",
     "shell.execute_reply": "2025-03-28T10:12:19.380455Z"
    }
   },
   "outputs": [],
   "execution_count": 68
  },
  {
   "cell_type": "code",
   "source": [
    "dataset = load_dataset(\"flaviagiammarino/path-vqa\")"
   ],
   "metadata": {
    "trusted": true,
    "execution": {
     "iopub.status.busy": "2025-03-28T10:12:21.692221Z",
     "iopub.execute_input": "2025-03-28T10:12:21.692591Z",
     "iopub.status.idle": "2025-03-28T10:12:23.292876Z",
     "shell.execute_reply.started": "2025-03-28T10:12:21.692565Z",
     "shell.execute_reply": "2025-03-28T10:12:23.292066Z"
    }
   },
   "outputs": [],
   "execution_count": 69
  },
  {
   "cell_type": "code",
   "source": [],
   "metadata": {
    "trusted": true
   },
   "outputs": [],
   "execution_count": null
  },
  {
   "cell_type": "code",
   "source": [
    "dataset = load_dataset(\"flaviagiammarino/path-vqa\")\n",
    "train_dataset = dataset[\"train\"]\n",
    "val_dataset = dataset[\"validation\"]\n"
   ],
   "metadata": {
    "trusted": true,
    "execution": {
     "iopub.status.busy": "2025-03-28T08:54:32.602226Z",
     "iopub.execute_input": "2025-03-28T08:54:32.602528Z",
     "iopub.status.idle": "2025-03-28T08:54:32.606968Z",
     "shell.execute_reply.started": "2025-03-28T08:54:32.602503Z",
     "shell.execute_reply": "2025-03-28T08:54:32.606108Z"
    },
    "ExecuteTime": {
     "end_time": "2025-03-30T08:37:44.186428Z",
     "start_time": "2025-03-30T08:37:43.750619Z"
    }
   },
   "outputs": [
    {
     "ename": "NameError",
     "evalue": "name 'dataset' is not defined",
     "output_type": "error",
     "traceback": [
      "\u001B[31m---------------------------------------------------------------------------\u001B[39m",
      "\u001B[31mNameError\u001B[39m                                 Traceback (most recent call last)",
      "\u001B[36mCell\u001B[39m\u001B[36m \u001B[39m\u001B[32mIn[1]\u001B[39m\u001B[32m, line 1\u001B[39m\n\u001B[32m----> \u001B[39m\u001B[32m1\u001B[39m train_dataset = \u001B[43mdataset\u001B[49m[\u001B[33m\"\u001B[39m\u001B[33mtrain\u001B[39m\u001B[33m\"\u001B[39m]\n\u001B[32m      2\u001B[39m val_dataset = dataset[\u001B[33m\"\u001B[39m\u001B[33mvalidation\u001B[39m\u001B[33m\"\u001B[39m]\n",
      "\u001B[31mNameError\u001B[39m: name 'dataset' is not defined"
     ]
    }
   ],
   "execution_count": 1
  },
  {
   "cell_type": "code",
   "source": [
    "train_dataset = dataset[\"train\"].select(range(283))\n",
    "val_dataset = dataset[\"validation\"].select(range(25))"
   ],
   "metadata": {
    "trusted": true,
    "execution": {
     "iopub.status.busy": "2025-03-28T10:12:25.875422Z",
     "iopub.execute_input": "2025-03-28T10:12:25.875791Z",
     "iopub.status.idle": "2025-03-28T10:12:25.885537Z",
     "shell.execute_reply.started": "2025-03-28T10:12:25.875749Z",
     "shell.execute_reply": "2025-03-28T10:12:25.884658Z"
    }
   },
   "outputs": [],
   "execution_count": 70
  },
  {
   "cell_type": "code",
   "source": [
    "len(train_dataset)"
   ],
   "metadata": {
    "trusted": true,
    "execution": {
     "iopub.status.busy": "2025-03-28T09:25:22.596524Z",
     "iopub.execute_input": "2025-03-28T09:25:22.596882Z",
     "iopub.status.idle": "2025-03-28T09:25:22.602473Z",
     "shell.execute_reply.started": "2025-03-28T09:25:22.596853Z",
     "shell.execute_reply": "2025-03-28T09:25:22.601404Z"
    }
   },
   "outputs": [
    {
     "execution_count": 10,
     "output_type": "execute_result",
     "data": {
      "text/plain": "100"
     },
     "metadata": {}
    }
   ],
   "execution_count": 10
  },
  {
   "cell_type": "code",
   "source": [
    "print(train_dataset)"
   ],
   "metadata": {
    "trusted": true,
    "execution": {
     "iopub.status.busy": "2025-03-28T09:25:24.994056Z",
     "iopub.execute_input": "2025-03-28T09:25:24.994472Z",
     "iopub.status.idle": "2025-03-28T09:25:24.999209Z",
     "shell.execute_reply.started": "2025-03-28T09:25:24.994443Z",
     "shell.execute_reply": "2025-03-28T09:25:24.998124Z"
    }
   },
   "outputs": [
    {
     "name": "stdout",
     "text": "Dataset({\n    features: ['image', 'question', 'answer'],\n    num_rows: 100\n})\n",
     "output_type": "stream"
    }
   ],
   "execution_count": 11
  },
  {
   "cell_type": "code",
   "source": [
    "train_dataset[0]"
   ],
   "metadata": {
    "trusted": true,
    "execution": {
     "iopub.status.busy": "2025-03-28T09:25:27.564363Z",
     "iopub.execute_input": "2025-03-28T09:25:27.564657Z",
     "iopub.status.idle": "2025-03-28T09:25:27.577681Z",
     "shell.execute_reply.started": "2025-03-28T09:25:27.564634Z",
     "shell.execute_reply": "2025-03-28T09:25:27.576775Z"
    }
   },
   "outputs": [
    {
     "execution_count": 12,
     "output_type": "execute_result",
     "data": {
      "text/plain": "{'image': <PIL.JpegImagePlugin.JpegImageFile image mode=CMYK size=309x272>,\n 'question': 'where are liver stem cells (oval cells) located?',\n 'answer': 'in the canals of hering'}"
     },
     "metadata": {}
    }
   ],
   "execution_count": 12
  },
  {
   "cell_type": "code",
   "source": [
    "train_dataset[0][\"image\"]"
   ],
   "metadata": {
    "trusted": true,
    "execution": {
     "iopub.status.busy": "2025-03-28T08:54:45.685048Z",
     "iopub.execute_input": "2025-03-28T08:54:45.685408Z",
     "iopub.status.idle": "2025-03-28T08:54:45.698017Z",
     "shell.execute_reply.started": "2025-03-28T08:54:45.685376Z",
     "shell.execute_reply": "2025-03-28T08:54:45.696959Z"
    }
   },
   "outputs": [
    {
     "execution_count": 20,
     "output_type": "execute_result",
     "data": {
      "text/plain": "<PIL.JpegImagePlugin.JpegImageFile image mode=CMYK size=309x272>",
      "image/jpeg": "[encoded data removed]"
     },
     "metadata": {}
    }
   ],
   "execution_count": 20
  },
  {
   "cell_type": "code",
   "source": [
    "train_dataset = [format_data(sample) for sample in train_dataset]\n",
    "eval_dataset = [format_data(sample) for sample in val_dataset]"
   ],
   "metadata": {
    "trusted": true,
    "execution": {
     "iopub.status.busy": "2025-03-28T10:12:30.024625Z",
     "iopub.execute_input": "2025-03-28T10:12:30.024974Z",
     "iopub.status.idle": "2025-03-28T10:12:33.374200Z",
     "shell.execute_reply.started": "2025-03-28T10:12:30.024948Z",
     "shell.execute_reply": "2025-03-28T10:12:33.373412Z"
    }
   },
   "outputs": [],
   "execution_count": 71
  },
  {
   "cell_type": "code",
   "source": [
    "train_dataset[0]"
   ],
   "metadata": {
    "trusted": true,
    "execution": {
     "iopub.status.busy": "2025-03-28T09:25:44.193668Z",
     "iopub.execute_input": "2025-03-28T09:25:44.194090Z",
     "iopub.status.idle": "2025-03-28T09:25:44.200332Z",
     "shell.execute_reply.started": "2025-03-28T09:25:44.194060Z",
     "shell.execute_reply": "2025-03-28T09:25:44.199415Z"
    }
   },
   "outputs": [
    {
     "execution_count": 15,
     "output_type": "execute_result",
     "data": {
      "text/plain": "[{'role': 'system',\n  'content': [{'type': 'text',\n    'text': '\"You are a medical pathology expert. Your task is to answer medical questions based solely on the visual information in the provided pathology image. Focus only on what is visible in the image — do not rely on prior medical knowledge, assumptions, or external information. Your responses should be short, factual, and medically precise, using appropriate terminology. Do not include any explanations, reasoning, or additional text. Use a consistent format, without punctuation, and avoid capitalisation unless medically required. Only return the exact answer.'}]},\n {'role': 'user',\n  'content': [{'type': 'image',\n    'image': <PIL.JpegImagePlugin.JpegImageFile image mode=CMYK size=309x272>},\n   {'type': 'text',\n    'text': 'where are liver stem cells (oval cells) located?'}]},\n {'role': 'assistant',\n  'content': [{'type': 'text', 'text': 'in the canals of hering'}]}]"
     },
     "metadata": {}
    }
   ],
   "execution_count": 15
  },
  {
   "cell_type": "code",
   "source": [
    "sample_data = train_dataset[0]\n",
    "sample_question = train_dataset[0][1][\"content\"][1][\"text\"]\n",
    "sample_answer = train_dataset[0][2][\"content\"][0][\"text\"]\n",
    "sample_image =train_dataset[0][1][\"content\"][0][\"image\"]"
   ],
   "metadata": {
    "trusted": true,
    "execution": {
     "iopub.status.busy": "2025-03-28T10:12:36.727439Z",
     "iopub.execute_input": "2025-03-28T10:12:36.727789Z",
     "iopub.status.idle": "2025-03-28T10:12:36.732414Z",
     "shell.execute_reply.started": "2025-03-28T10:12:36.727763Z",
     "shell.execute_reply": "2025-03-28T10:12:36.731350Z"
    }
   },
   "outputs": [],
   "execution_count": 72
  },
  {
   "cell_type": "code",
   "source": [
    "sample_question"
   ],
   "metadata": {
    "trusted": true,
    "execution": {
     "iopub.status.busy": "2025-03-28T09:20:22.228332Z",
     "iopub.execute_input": "2025-03-28T09:20:22.228713Z",
     "iopub.status.idle": "2025-03-28T09:20:22.234390Z",
     "shell.execute_reply.started": "2025-03-28T09:20:22.228680Z",
     "shell.execute_reply": "2025-03-28T09:20:22.233285Z"
    }
   },
   "outputs": [
    {
     "execution_count": 57,
     "output_type": "execute_result",
     "data": {
      "text/plain": "'where are liver stem cells (oval cells) located?'"
     },
     "metadata": {}
    }
   ],
   "execution_count": 57
  },
  {
   "cell_type": "code",
   "source": [
    "sample_answer"
   ],
   "metadata": {
    "trusted": true,
    "execution": {
     "iopub.status.busy": "2025-03-28T09:20:47.554132Z",
     "iopub.execute_input": "2025-03-28T09:20:47.554492Z",
     "iopub.status.idle": "2025-03-28T09:20:47.559912Z",
     "shell.execute_reply.started": "2025-03-28T09:20:47.554458Z",
     "shell.execute_reply": "2025-03-28T09:20:47.558990Z"
    }
   },
   "outputs": [
    {
     "execution_count": 58,
     "output_type": "execute_result",
     "data": {
      "text/plain": "'in the canals of hering'"
     },
     "metadata": {}
    }
   ],
   "execution_count": 58
  },
  {
   "cell_type": "code",
   "source": [
    "sample_image"
   ],
   "metadata": {
    "trusted": true,
    "execution": {
     "iopub.status.busy": "2025-03-28T09:20:53.672697Z",
     "iopub.execute_input": "2025-03-28T09:20:53.673105Z",
     "iopub.status.idle": "2025-03-28T09:20:53.682275Z",
     "shell.execute_reply.started": "2025-03-28T09:20:53.673065Z",
     "shell.execute_reply": "2025-03-28T09:20:53.681173Z"
    }
   },
   "outputs": [
    {
     "execution_count": 59,
     "output_type": "execute_result",
     "data": {
      "text/plain": "<PIL.JpegImagePlugin.JpegImageFile image mode=CMYK size=309x272>",
      "image/jpeg": "[encoded data removed]"
     },
     "metadata": {}
    }
   ],
   "execution_count": 59
  },
  {
   "cell_type": "code",
   "source": [
    "\n"
   ],
   "metadata": {
    "trusted": true
   },
   "outputs": [],
   "execution_count": null
  },
  {
   "cell_type": "code",
   "source": [
    "if device == \"cuda\":\n",
    "    bnb_config = BitsAndBytesConfig(\n",
    "        load_in_4bit=True,\n",
    "        bnb_4bit_use_double_quant=True,\n",
    "        bnb_4bit_quant_type=\"nf4\",\n",
    "        bnb_4bit_compute_dtype=torch.bfloat16  # Optional: torch.float16 als Fallback\n",
    "    )\n",
    "    model = Qwen2_5_VLForConditionalGeneration.from_pretrained(  # oder korrektes Modell\n",
    "        MODEL_ID,\n",
    "        quantization_config=bnb_config,\n",
    "        device_map=\"auto\"\n",
    "    )\n",
    "else:\n",
    "    model = Qwen2_5_VLForConditionalGeneration.from_pretrained(\n",
    "        MODEL_ID,\n",
    "        device_map=\"auto\",\n",
    "        use_cache=False\n",
    "    )\n",
    "\n",
    "processor = Qwen2_5_VLProcessor.from_pretrained(MODEL_ID)\n",
    "processor.tokenizer.padding_side = \"right\"\n"
   ],
   "metadata": {
    "trusted": true,
    "execution": {
     "iopub.status.busy": "2025-03-28T10:12:39.875672Z",
     "iopub.execute_input": "2025-03-28T10:12:39.876068Z",
     "iopub.status.idle": "2025-03-28T10:12:51.123919Z",
     "shell.execute_reply.started": "2025-03-28T10:12:39.876041Z",
     "shell.execute_reply": "2025-03-28T10:12:51.123133Z"
    }
   },
   "outputs": [
    {
     "output_type": "display_data",
     "data": {
      "text/plain": "Loading checkpoint shards:   0%|          | 0/2 [00:00<?, ?it/s]",
      "application/vnd.jupyter.widget-view+json": {
       "version_major": 2,
       "version_minor": 0,
       "model_id": "934dd70dccf1455ba02726c3daa5c661"
      }
     },
     "metadata": {}
    }
   ],
   "execution_count": 73
  },
  {
   "cell_type": "code",
   "source": [
    "sample_data[0:2]"
   ],
   "metadata": {
    "trusted": true,
    "execution": {
     "iopub.status.busy": "2025-03-28T10:12:55.544657Z",
     "iopub.execute_input": "2025-03-28T10:12:55.545062Z",
     "iopub.status.idle": "2025-03-28T10:12:55.551023Z",
     "shell.execute_reply.started": "2025-03-28T10:12:55.545033Z",
     "shell.execute_reply": "2025-03-28T10:12:55.549965Z"
    }
   },
   "outputs": [
    {
     "execution_count": 74,
     "output_type": "execute_result",
     "data": {
      "text/plain": "[{'role': 'system',\n  'content': [{'type': 'text',\n    'text': '\"You are a medical pathology expert. Your task is to answer medical questions based solely on the visual information in the provided pathology image. Focus only on what is visible in the image — do not rely on prior medical knowledge, assumptions, or external information. Your responses should be short, factual, and medically precise, using appropriate terminology. Do not include any explanations, reasoning, or additional text. Use a consistent format, without punctuation, and avoid capitalisation unless medically required. Only return the exact answer.'}]},\n {'role': 'user',\n  'content': [{'type': 'image',\n    'image': <PIL.JpegImagePlugin.JpegImageFile image mode=CMYK size=309x272>},\n   {'type': 'text',\n    'text': 'where are liver stem cells (oval cells) located?'}]}]"
     },
     "metadata": {}
    }
   ],
   "execution_count": 74
  },
  {
   "cell_type": "code",
   "source": [
    "def text_generator(sample_data):\n",
    "    text = processor.apply_chat_template(\n",
    "        sample_data[0:2], tokenize=False, add_generation_prompt=True\n",
    "    )\n",
    "\n",
    "    image_inputs = sample_data[1][\"content\"][0][\"image\"]\n",
    "\n",
    "    inputs = processor(\n",
    "        text=[text],\n",
    "        images = image_inputs,\n",
    "        return_tensors=\"pt\"\n",
    "    )\n",
    "\n",
    "    inputs = inputs.to(device)\n",
    "\n",
    "    generated_ids = model.generate(**inputs, max_new_tokens=MAX_SEQ_LEN)\n",
    "\n",
    "    output_text = processor.batch_decode(\n",
    "        generated_ids, skip_special_tokens=True\n",
    "    )\n",
    "\n",
    "    del inputs\n",
    "    actual_answer = sample_data[2][\"content\"][0][\"text\"]\n",
    "    return output_text[0], actual_answer\n",
    "\n",
    "    print(f\"Prompt: {text}\")\n",
    "    print(\"-\"*30)\n",
    "\n",
    "\n",
    "generated_text, actual_answer = text_generator(sample_data)\n",
    "print(f\"Generated Answer: {generated_text}\")\n",
    "print(f\"Actual Answer: {actual_answer}\")"
   ],
   "metadata": {
    "trusted": true,
    "execution": {
     "iopub.status.busy": "2025-03-28T10:12:59.496259Z",
     "iopub.execute_input": "2025-03-28T10:12:59.496641Z",
     "iopub.status.idle": "2025-03-28T10:13:02.384544Z",
     "shell.execute_reply.started": "2025-03-28T10:12:59.496612Z",
     "shell.execute_reply": "2025-03-28T10:13:02.383463Z"
    }
   },
   "outputs": [
    {
     "name": "stdout",
     "text": "Generated Answer: system\n\"You are a medical pathology expert. Your task is to answer medical questions based solely on the visual information in the provided pathology image. Focus only on what is visible in the image — do not rely on prior medical knowledge, assumptions, or external information. Your responses should be short, factual, and medically precise, using appropriate terminology. Do not include any explanations, reasoning, or additional text. Use a consistent format, without punctuation, and avoid capitalisation unless medically required. Only return the exact answer.\nuser\nwhere are liver stem cells (oval cells) located?\nassistant\nLiver stem cells (oval cells) are located in the liver sinusoids.\nActual Answer: in the canals of hering\n",
     "output_type": "stream"
    }
   ],
   "execution_count": 75
  },
  {
   "cell_type": "code",
   "source": [
    "text_generator(sample_data)"
   ],
   "metadata": {
    "trusted": true,
    "execution": {
     "iopub.status.busy": "2025-03-28T10:13:07.243981Z",
     "iopub.execute_input": "2025-03-28T10:13:07.244292Z",
     "iopub.status.idle": "2025-03-28T10:13:10.259128Z",
     "shell.execute_reply.started": "2025-03-28T10:13:07.244268Z",
     "shell.execute_reply": "2025-03-28T10:13:10.258083Z"
    }
   },
   "outputs": [
    {
     "execution_count": 76,
     "output_type": "execute_result",
     "data": {
      "text/plain": "('system\\n\"You are a medical pathology expert. Your task is to answer medical questions based solely on the visual information in the provided pathology image. Focus only on what is visible in the image — do not rely on prior medical knowledge, assumptions, or external information. Your responses should be short, factual, and medically precise, using appropriate terminology. Do not include any explanations, reasoning, or additional text. Use a consistent format, without punctuation, and avoid capitalisation unless medically required. Only return the exact answer.\\nuser\\nwhere are liver stem cells (oval cells) located?\\nassistant\\nLiver stem cells (oval cells) are located in the liver sinusoids.',\n 'in the canals of hering')"
     },
     "metadata": {}
    }
   ],
   "execution_count": 76
  },
  {
   "cell_type": "code",
   "source": [
    "peft_config = LoraConfig(\n",
    "    lora_alpha=16,\n",
    "    lora_dropout=0.1,\n",
    "    r=8,\n",
    "    bias=\"none\",\n",
    "    target_modules= [\"q_proj\", \"v_proj\"],\n",
    "    task_type=\"CAUSAL_LM\"\n",
    ")\n",
    "\n",
    "print(f\"Before adapter parameters: {model.num_parameters()}\")\n",
    "peft_model = get_peft_model(model, peft_config)\n",
    "peft_model.print_trainable_parameters()"
   ],
   "metadata": {
    "trusted": true,
    "execution": {
     "iopub.status.busy": "2025-03-28T10:13:17.301785Z",
     "iopub.execute_input": "2025-03-28T10:13:17.302107Z",
     "iopub.status.idle": "2025-03-28T10:13:17.427796Z",
     "shell.execute_reply.started": "2025-03-28T10:13:17.302083Z",
     "shell.execute_reply": "2025-03-28T10:13:17.426869Z"
    }
   },
   "outputs": [
    {
     "name": "stdout",
     "text": "Before adapter parameters: 3754622976\ntrainable params: 1,843,200 || all params: 3,756,466,176 || trainable%: 0.0491\n",
     "output_type": "stream"
    }
   ],
   "execution_count": 77
  },
  {
   "cell_type": "code",
   "source": [
    "!pip"
   ],
   "metadata": {
    "trusted": true
   },
   "outputs": [],
   "execution_count": null
  },
  {
   "cell_type": "code",
   "source": [
    "training_args = SFTConfig(\n",
    "    output_dir=\"./output\",\n",
    "    bf16=True,\n",
    "    num_train_epochs=EPOCHS,\n",
    "    per_device_train_batch_size=BATCH_SIZE,\n",
    "    per_device_eval_batch_size=BATCH_SIZE,\n",
    "    gradient_checkpointing=GRADIENT_CHECKPOINTING,\n",
    "    learning_rate=LEARNING_RATE,\n",
    "    logging_steps=LOGGING_STEPS,\n",
    "    eval_steps=EVAL_STEPS,\n",
    "    eval_strategy=EVAL_STRATEGY,\n",
    "    save_strategy=SAVE_STRATEGY,\n",
    "    save_steps=SAVE_STEPS,\n",
    "    metric_for_best_model=METRIC_FOR_BEST_MODEL,\n",
    "    load_best_model_at_end=LOAD_BEST_MODEL_AT_END,\n",
    "    max_grad_norm=MAX_GRAD_NORM,\n",
    "    warmup_steps=WARMUP_STEPS,\n",
    "    dataset_kwargs=DATASET_KWARGS,\n",
    "    max_seq_length=MAX_SEQ_LEN,\n",
    "    remove_unused_columns = REMOVE_UNUSED_COLUMNS,\n",
    "    optim=OPTIM\n",
    "    \n",
    ")"
   ],
   "metadata": {
    "trusted": true,
    "execution": {
     "iopub.status.busy": "2025-03-28T10:13:22.323892Z",
     "iopub.execute_input": "2025-03-28T10:13:22.324219Z",
     "iopub.status.idle": "2025-03-28T10:13:22.362909Z",
     "shell.execute_reply.started": "2025-03-28T10:13:22.324196Z",
     "shell.execute_reply": "2025-03-28T10:13:22.361973Z"
    }
   },
   "outputs": [
    {
     "name": "stderr",
     "text": "Using the `WANDB_DISABLED` environment variable is deprecated and will be removed in v5. Use the --report_to flag to control the integrations used for logging result (for instance --report_to none).\n",
     "output_type": "stream"
    }
   ],
   "execution_count": 78
  },
  {
   "cell_type": "code",
   "source": [
    "collate_sample = [train_dataset[0], train_dataset[1]]\n",
    "\n",
    "def collate_fn(examples):\n",
    "    texts = [processor.apply_chat_template(example, tokenize=False) for example in examples]\n",
    "    image_inputs = [example[1][\"content\"][0][\"image\"] for example in examples]\n",
    "\n",
    "    batch = processor(\n",
    "        text = texts, images = image_inputs, return_tensors=\"pt\", padding=True\n",
    "        \n",
    "    )\n",
    "    labels = batch[\"input_ids\"].clone()\n",
    "    labels[labels == processor.tokenizer.pad_token_id] = -100\n",
    "    batch[\"labels\"] = batch[\"input_ids\"]\n",
    "\n",
    "    return batch\n",
    "\n",
    "collated_data = collate_fn(collate_sample)\n",
    "print(collated_data.keys())"
   ],
   "metadata": {
    "trusted": true,
    "execution": {
     "iopub.status.busy": "2025-03-28T10:13:25.819770Z",
     "iopub.execute_input": "2025-03-28T10:13:25.820108Z",
     "iopub.status.idle": "2025-03-28T10:13:25.844191Z",
     "shell.execute_reply.started": "2025-03-28T10:13:25.820064Z",
     "shell.execute_reply": "2025-03-28T10:13:25.843352Z"
    }
   },
   "outputs": [
    {
     "name": "stdout",
     "text": "dict_keys(['input_ids', 'attention_mask', 'pixel_values', 'image_grid_thw', 'labels'])\n",
     "output_type": "stream"
    }
   ],
   "execution_count": 79
  },
  {
   "cell_type": "code",
   "source": [
    "trainer = SFTTrainer(\n",
    "    model=model,\n",
    "    args=training_args,\n",
    "    train_dataset=train_dataset,\n",
    "    eval_dataset=eval_dataset,\n",
    "    data_collator=collate_fn,\n",
    "    peft_config=peft_config,\n",
    "    processing_class=processor.tokenizer,\n",
    "    \n",
    "    \n",
    ")"
   ],
   "metadata": {
    "trusted": true,
    "execution": {
     "iopub.status.busy": "2025-03-28T10:13:28.504235Z",
     "iopub.execute_input": "2025-03-28T10:13:28.504563Z",
     "iopub.status.idle": "2025-03-28T10:13:28.657680Z",
     "shell.execute_reply.started": "2025-03-28T10:13:28.504538Z",
     "shell.execute_reply": "2025-03-28T10:13:28.656916Z"
    }
   },
   "outputs": [
    {
     "name": "stderr",
     "text": "No label_names provided for model class `PeftModelForCausalLM`. Since `PeftModel` hides base models input arguments, if label_names is not given, label_names can't be set automatically within `Trainer`. Note that empty label_names list will be used instead.\n",
     "output_type": "stream"
    }
   ],
   "execution_count": 80
  },
  {
   "cell_type": "code",
   "source": [
    "print(\"-\"*30)\n",
    "print(\"Initial Evaluation\")\n",
    "metric = trainer.evaluate()\n",
    "print(metric)\n",
    "print(\"-\"*30)\n",
    "\n",
    "print(\"Training\")\n",
    "trainer.train()\n",
    "print(\"-\"*30)"
   ],
   "metadata": {
    "trusted": true,
    "execution": {
     "iopub.status.busy": "2025-03-28T10:13:31.264058Z",
     "iopub.execute_input": "2025-03-28T10:13:31.264396Z",
     "iopub.status.idle": "2025-03-28T11:08:29.910642Z",
     "shell.execute_reply.started": "2025-03-28T10:13:31.264369Z",
     "shell.execute_reply": "2025-03-28T11:08:29.909789Z"
    }
   },
   "outputs": [
    {
     "name": "stdout",
     "text": "------------------------------\nInitial Evaluation\n",
     "output_type": "stream"
    },
    {
     "output_type": "display_data",
     "data": {
      "text/plain": "<IPython.core.display.HTML object>",
      "text/html": "\n    <div>\n      \n      <progress value='50' max='25' style='width:300px; height:20px; vertical-align: middle;'></progress>\n      [25/25 11:08]\n    </div>\n    "
     },
     "metadata": {}
    },
    {
     "name": "stdout",
     "text": "{'eval_loss': 14.954421043395996, 'eval_model_preparation_time': 0.0005, 'eval_runtime': 104.5645, 'eval_samples_per_second': 0.239, 'eval_steps_per_second': 0.239}\n------------------------------\nTraining\n",
     "output_type": "stream"
    },
    {
     "name": "stderr",
     "text": "`use_cache=True` is incompatible with gradient checkpointing. Setting `use_cache=False`...\n",
     "output_type": "stream"
    },
    {
     "output_type": "display_data",
     "data": {
      "text/plain": "<IPython.core.display.HTML object>",
      "text/html": "\n    <div>\n      \n      <progress value='283' max='283' style='width:300px; height:20px; vertical-align: middle;'></progress>\n      [283/283 53:03, Epoch 1/1]\n    </div>\n    <table border=\"1\" class=\"dataframe\">\n  <thead>\n <tr style=\"text-align: left;\">\n      <th>Step</th>\n      <th>Training Loss</th>\n      <th>Validation Loss</th>\n      <th>Model Preparation Time</th>\n    </tr>\n  </thead>\n  <tbody>\n    <tr>\n      <td>50</td>\n      <td>15.234800</td>\n      <td>14.270899</td>\n      <td>0.000500</td>\n    </tr>\n    <tr>\n      <td>100</td>\n      <td>14.215500</td>\n      <td>12.964028</td>\n      <td>0.000500</td>\n    </tr>\n    <tr>\n      <td>150</td>\n      <td>12.357600</td>\n      <td>11.075445</td>\n      <td>0.000500</td>\n    </tr>\n    <tr>\n      <td>200</td>\n      <td>10.777200</td>\n      <td>9.629199</td>\n      <td>0.000500</td>\n    </tr>\n    <tr>\n      <td>250</td>\n      <td>9.482400</td>\n      <td>9.104522</td>\n      <td>0.000500</td>\n    </tr>\n  </tbody>\n</table><p>"
     },
     "metadata": {}
    },
    {
     "name": "stdout",
     "text": "------------------------------\n",
     "output_type": "stream"
    }
   ],
   "execution_count": 81
  },
  {
   "cell_type": "code",
   "source": [
    "trainer.save_model(training_args.output_dir)"
   ],
   "metadata": {
    "trusted": true,
    "execution": {
     "iopub.status.busy": "2025-03-28T11:10:57.449690Z",
     "iopub.execute_input": "2025-03-28T11:10:57.450103Z",
     "iopub.status.idle": "2025-03-28T11:10:58.136714Z",
     "shell.execute_reply.started": "2025-03-28T11:10:57.450074Z",
     "shell.execute_reply": "2025-03-28T11:10:58.136001Z"
    }
   },
   "outputs": [],
   "execution_count": 82
  },
  {
   "cell_type": "code",
   "source": [
    "import gc\n",
    "import time\n",
    "\n",
    "\n",
    "def clear_memory():\n",
    "    # Delete variables if they exist in the current global scope\n",
    "    if \"inputs\" in globals():\n",
    "        del globals()[\"inputs\"]\n",
    "    if \"model\" in globals():\n",
    "        del globals()[\"model\"]\n",
    "    if \"processor\" in globals():\n",
    "        del globals()[\"processor\"]\n",
    "    if \"trainer\" in globals():\n",
    "        del globals()[\"trainer\"]\n",
    "    if \"peft_model\" in globals():\n",
    "        del globals()[\"peft_model\"]\n",
    "    if \"bnb_config\" in globals():\n",
    "        del globals()[\"bnb_config\"]\n",
    "    time.sleep(2)\n",
    "\n",
    "    # Garbage collection and clearing CUDA memory\n",
    "    gc.collect()\n",
    "    time.sleep(2)\n",
    "    torch.cuda.empty_cache()\n",
    "    torch.cuda.synchronize()\n",
    "    time.sleep(2)\n",
    "    gc.collect()\n",
    "    time.sleep(2)\n",
    "\n",
    "    print(f\"GPU allocated memory: {torch.cuda.memory_allocated() / 1024**3:.2f} GB\")\n",
    "    print(f\"GPU reserved memory: {torch.cuda.memory_reserved() / 1024**3:.2f} GB\")\n",
    "\n",
    "\n",
    "clear_memory()"
   ],
   "metadata": {
    "trusted": true,
    "execution": {
     "iopub.status.busy": "2025-03-28T11:12:34.605463Z",
     "iopub.execute_input": "2025-03-28T11:12:34.605894Z",
     "iopub.status.idle": "2025-03-28T11:12:43.572083Z",
     "shell.execute_reply.started": "2025-03-28T11:12:34.605849Z",
     "shell.execute_reply": "2025-03-28T11:12:43.571025Z"
    }
   },
   "outputs": [
    {
     "name": "stdout",
     "text": "GPU allocated memory: 1.42 GB\nGPU reserved memory: 3.21 GB\n",
     "output_type": "stream"
    }
   ],
   "execution_count": 83
  },
  {
   "cell_type": "code",
   "source": [
    "if device == \"cuda\":\n",
    "    bnb_config = BitsAndBytesConfig(\n",
    "        load_in_4bit=True,\n",
    "        bnb_4bit_use_double_quant=True,\n",
    "        bnb_4bit_quant_type=\"nf4\",\n",
    "        bnb_4bit_compute_dtype=torch.bfloat16  # Optional: torch.float16 als Fallback\n",
    "    )\n",
    "    model = Qwen2_5_VLForConditionalGeneration.from_pretrained(  # oder korrektes Modell\n",
    "        MODEL_ID,\n",
    "        quantization_config=bnb_config,\n",
    "        device_map=\"auto\",\n",
    "        use_cache=True\n",
    "    )\n",
    "else:\n",
    "    model = Qwen2_5_VLForConditionalGeneration.from_pretrained(\n",
    "        MODEL_ID,\n",
    "        device_map=\"auto\",\n",
    "        use_cache=True\n",
    "    )\n",
    "\n",
    "processor = Qwen2_5_VLProcessor.from_pretrained(MODEL_ID)\n",
    "processor.tokenizer.padding_side = \"right\"\n"
   ],
   "metadata": {
    "trusted": true,
    "execution": {
     "iopub.status.busy": "2025-03-28T11:14:03.154804Z",
     "iopub.execute_input": "2025-03-28T11:14:03.155167Z",
     "iopub.status.idle": "2025-03-28T11:14:13.490914Z",
     "shell.execute_reply.started": "2025-03-28T11:14:03.155140Z",
     "shell.execute_reply": "2025-03-28T11:14:13.490110Z"
    }
   },
   "outputs": [
    {
     "output_type": "display_data",
     "data": {
      "text/plain": "Loading checkpoint shards:   0%|          | 0/2 [00:00<?, ?it/s]",
      "application/vnd.jupyter.widget-view+json": {
       "version_major": 2,
       "version_minor": 0,
       "model_id": "aa04764062234313ba1b0f354303c1e9"
      }
     },
     "metadata": {}
    }
   ],
   "execution_count": 84
  },
  {
   "cell_type": "code",
   "source": [
    "print(f\"Before adapter parameters: {model.num_parameters()}\")\n",
    "model.load_adapter(\"./output\")\n",
    "print(f\"After adapter parameters: {model.num_parameters()}\")"
   ],
   "metadata": {
    "trusted": true,
    "execution": {
     "iopub.status.busy": "2025-03-28T11:15:39.915009Z",
     "iopub.execute_input": "2025-03-28T11:15:39.915369Z",
     "iopub.status.idle": "2025-03-28T11:15:40.076414Z",
     "shell.execute_reply.started": "2025-03-28T11:15:39.915344Z",
     "shell.execute_reply": "2025-03-28T11:15:40.075425Z"
    }
   },
   "outputs": [
    {
     "name": "stdout",
     "text": "Before adapter parameters: 3754622976\nAfter adapter parameters: 3756466176\n",
     "output_type": "stream"
    }
   ],
   "execution_count": 85
  },
  {
   "cell_type": "code",
   "source": [
    "generated_text, actual_answer = text_generator(sample_data)\n",
    "print(f\"Generated Answer: {generated_text}\")\n",
    "print(f\"Actual Answer: {actual_answer}\")"
   ],
   "metadata": {
    "trusted": true,
    "execution": {
     "iopub.status.busy": "2025-03-28T11:16:09.593545Z",
     "iopub.execute_input": "2025-03-28T11:16:09.593910Z",
     "iopub.status.idle": "2025-03-28T11:16:11.396720Z",
     "shell.execute_reply.started": "2025-03-28T11:16:09.593878Z",
     "shell.execute_reply": "2025-03-28T11:16:11.395495Z"
    }
   },
   "outputs": [
    {
     "name": "stdout",
     "text": "Generated Answer: system\n\"You are a medical pathology expert. Your task is to answer medical questions based solely on the visual information in the provided pathology image. Focus only on what is visible in the image — do not rely on prior medical knowledge, assumptions, or external information. Your responses should be short, factual, and medically precise, using appropriate terminology. Do not include any explanations, reasoning, or additional text. Use a consistent format, without punctuation, and avoid capitalisation unless medically required. Only return the exact answer.\nuser\nwhere are liver stem cells (oval cells) located?\nassistant\nin oval cells\nActual Answer: in the canals of hering\n",
     "output_type": "stream"
    }
   ],
   "execution_count": 86
  },
  {
   "cell_type": "code",
   "source": [
    "import torch\n",
    "print(torch.cuda.device_count())\n"
   ],
   "metadata": {
    "trusted": true,
    "execution": {
     "iopub.status.busy": "2025-03-28T10:10:04.680506Z",
     "iopub.execute_input": "2025-03-28T10:10:04.680930Z",
     "iopub.status.idle": "2025-03-28T10:10:04.685921Z",
     "shell.execute_reply.started": "2025-03-28T10:10:04.680898Z",
     "shell.execute_reply": "2025-03-28T10:10:04.684831Z"
    }
   },
   "outputs": [
    {
     "name": "stdout",
     "text": "2\n",
     "output_type": "stream"
    }
   ],
   "execution_count": 57
  },
  {
   "cell_type": "code",
   "source": [
    "import torch\n",
    "torch.cuda.empty_cache()\n"
   ],
   "metadata": {
    "trusted": true,
    "execution": {
     "iopub.status.busy": "2025-03-28T10:10:28.540410Z",
     "iopub.execute_input": "2025-03-28T10:10:28.540770Z",
     "iopub.status.idle": "2025-03-28T10:10:28.577445Z",
     "shell.execute_reply.started": "2025-03-28T10:10:28.540726Z",
     "shell.execute_reply": "2025-03-28T10:10:28.576846Z"
    }
   },
   "outputs": [],
   "execution_count": 58
  }
 ]
}
