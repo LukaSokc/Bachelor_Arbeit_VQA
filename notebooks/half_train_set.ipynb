{
 "cells": [
  {
   "cell_type": "code",
   "execution_count": 2,
   "id": "initial_id",
   "metadata": {
    "collapsed": true,
    "ExecuteTime": {
     "end_time": "2025-04-10T14:50:17.622282Z",
     "start_time": "2025-04-10T14:50:14.289977Z"
    }
   },
   "outputs": [
    {
     "name": "stdout",
     "output_type": "stream",
     "text": [
      "Fragetypen im gesamten Datensatz:\n",
      "  question_type  count  percentage\n",
      "7        Yes/No   9728        49.5\n",
      "2          What   8040        40.9\n",
      "4         Where   1315         6.7\n",
      "0           How    427         2.2\n",
      "6           Why     71         0.4\n",
      "1         Other     38         0.2\n",
      "3          When     30         0.2\n",
      "5         Whose      5         0.0\n"
     ]
    }
   ],
   "source": [
    "import re\n",
    "import pandas as pd\n",
    "from pathlib import Path\n",
    "from datasets import load_from_disk\n",
    "\n",
    "def get_question_type(question):\n",
    "    \"\"\"\n",
    "    Bestimmt den Fragetyp anhand des ersten Wortes der Frage.\n",
    "    - Wenn das erste Wort ein typisches Fragewort (z. B. What, Where, When, How, Why, Who, Whom, Which) ist,\n",
    "      wird genau dieses (capitalized) zurückgegeben.\n",
    "    - Wenn das erste Wort ein Hilfsverb ist (z. B. is, are, do, etc.), wird \"Yes/No\" zurückgegeben.\n",
    "    - Andernfalls wird \"Other\" zurückgegeben.\n",
    "    \"\"\"\n",
    "    q = question.strip().lower()\n",
    "    match = re.match(r\"(\\w+)\", q)\n",
    "    if match:\n",
    "        first_word = match.group(1)\n",
    "        interrogatives = {\"what\", \"where\", \"when\", \"how\", \"why\", \"whose\", \"whom\", \"which\"}\n",
    "        if first_word in interrogatives:\n",
    "            return first_word.capitalize()\n",
    "        auxiliaries = {\"is\", \"are\", \"do\", \"does\", \"did\", \"can\", \"could\", \"would\", \"will\", \"have\", \"has\", \"had\", \"am\"}\n",
    "        if first_word in auxiliaries:\n",
    "            return \"Yes/No\"\n",
    "        return \"Other\"\n",
    "    else:\n",
    "        return \"Unknown\"\n",
    "\n",
    "# Definiere die Pfade zu den Datensätzen\n",
    "project_root = Path.cwd().parent\n",
    "data_path_train = project_root / \"data\" / \"train\"\n",
    "data_path_validation = project_root / \"data\" / \"validation\"\n",
    "data_path_test = project_root / \"data\" / \"test\"\n",
    "\n",
    "# Lade die Datensätze (angenommen, sie wurden bereits mit load_from_disk gespeichert)\n",
    "dataset_train = load_from_disk(str(data_path_train))\n",
    "dataset_val = load_from_disk(str(data_path_validation))\n",
    "dataset_test = load_from_disk(str(data_path_test))\n",
    "\n",
    "# Wandle die Datensätze in Pandas DataFrames um\n",
    "df_train = dataset_train.to_pandas()\n",
    "df_val = dataset_val.to_pandas()\n",
    "df_test = dataset_test.to_pandas()\n",
    "\n",
    "# Führe alle DataFrames zusammen\n",
    "df_all = pd.concat([df_train], ignore_index=True)\n",
    "\n",
    "# Bestimme den Fragetyp für jede Frage\n",
    "df_all[\"question_type\"] = df_all[\"question\"].apply(get_question_type)\n",
    "\n",
    "# Gruppiere nach Fragetyp und berechne Anzahl und prozentualen Anteil\n",
    "summary = df_all.groupby(\"question_type\")[\"question\"].agg([\"count\"]).reset_index()\n",
    "total = summary[\"count\"].sum()\n",
    "summary[\"percentage\"] = (summary[\"count\"] / total * 100).round(1)\n",
    "summary = summary.sort_values(\"count\", ascending=False)\n",
    "\n",
    "print(\"Fragetypen im gesamten Datensatz:\")\n",
    "print(summary)\n"
   ]
  },
  {
   "cell_type": "code",
   "outputs": [
    {
     "name": "stdout",
     "output_type": "stream",
     "text": [
      "Anzahl gewählter Instanzen: 9825\n",
      "Ein paar Beispiel-Indizes: [8607, 6805, 2809, 17702, 11404, 5895, 2048, 9256, 18777, 12133]\n",
      "\n",
      "Verteilung im Sample (in %):\n",
      "question_type\n",
      "How        2.167939\n",
      "Other      0.193384\n",
      "What      40.916031\n",
      "When       0.152672\n",
      "Where      6.687023\n",
      "Whose      0.020356\n",
      "Why        0.356234\n",
      "Yes/No    49.506361\n",
      "Name: proportion, dtype: float64\n"
     ]
    }
   ],
   "source": [
    "import pandas as pd\n",
    "from pathlib import Path\n",
    "from datasets import load_from_disk\n",
    "import re\n",
    "\n",
    "# Funktion zur Fragetyp-Bestimmung (wie bei dir)\n",
    "def get_question_type(question):\n",
    "    q = question.strip().lower()\n",
    "    match = re.match(r\"(\\w+)\", q)\n",
    "    if match:\n",
    "        first_word = match.group(1)\n",
    "        interrogatives = {\"what\", \"where\", \"when\", \"how\", \"why\", \"whose\", \"whom\", \"which\"}\n",
    "        if first_word in interrogatives:\n",
    "            return first_word.capitalize()\n",
    "        auxiliaries = {\"is\", \"are\", \"do\", \"does\", \"did\", \"can\", \"could\", \"would\", \"will\", \"have\", \"has\", \"had\", \"am\"}\n",
    "        if first_word in auxiliaries:\n",
    "            return \"Yes/No\"\n",
    "        return \"Other\"\n",
    "    else:\n",
    "        return \"Unknown\"\n",
    "\n",
    "# Pfad zum Trainingsdatensatz\n",
    "project_root = Path.cwd().parent\n",
    "data_path_train = project_root / \"data\" / \"train\"\n",
    "\n",
    "# Lade und konvertiere den Datensatz\n",
    "dataset_train = load_from_disk(str(data_path_train))\n",
    "df_train = dataset_train.to_pandas()\n",
    "\n",
    "# Fragetyp hinzufügen\n",
    "df_train[\"question_type\"] = df_train[\"question\"].apply(get_question_type)\n",
    "\n",
    "# Ziel: 50 % der Daten, stratifiziert nach Frage-Typ\n",
    "fraction = 0.5\n",
    "samples = []\n",
    "\n",
    "for typ, group in df_train.groupby(\"question_type\"):\n",
    "    n = int(len(group) * fraction)\n",
    "    sampled = group.sample(n=n, random_state=42)\n",
    "    samples.append(sampled)\n",
    "\n",
    "# Alle Samples zusammenführen\n",
    "subset_df = pd.concat(samples)\n",
    "subset_df = subset_df.sample(frac=1, random_state=42)\n",
    "\n",
    "# Indizes der ausgewählten Samples (aus Original-DataFrame)\n",
    "selected_indices = subset_df.index.tolist()\n",
    "\n",
    "# Ausgabe\n",
    "print(f\"Anzahl gewählter Instanzen: {len(selected_indices)}\")\n",
    "print(\"Ein paar Beispiel-Indizes:\", selected_indices[:10])\n",
    "\n",
    "# Optional: Verteilung zur Kontrolle anzeigen\n",
    "verteilung_kontrolle = subset_df[\"question_type\"].value_counts(normalize=True) * 100\n",
    "print(\"\\nVerteilung im Sample (in %):\")\n",
    "print(verteilung_kontrolle.sort_index())\n"
   ],
   "metadata": {
    "collapsed": false,
    "ExecuteTime": {
     "end_time": "2025-04-10T14:51:39.237364Z",
     "start_time": "2025-04-10T14:51:37.156934Z"
    }
   },
   "id": "65655bdb988f2e2c",
   "execution_count": 3
  },
  {
   "cell_type": "code",
   "outputs": [
    {
     "data": {
      "text/plain": "9825"
     },
     "execution_count": 5,
     "metadata": {},
     "output_type": "execute_result"
    }
   ],
   "source": [
    "len(selected_indices)"
   ],
   "metadata": {
    "collapsed": false,
    "ExecuteTime": {
     "end_time": "2025-04-10T14:52:08.854228Z",
     "start_time": "2025-04-10T14:52:08.849421Z"
    }
   },
   "id": "be854f9d282d28b0",
   "execution_count": 5
  },
  {
   "cell_type": "code",
   "outputs": [
    {
     "name": "stdout",
     "output_type": "stream",
     "text": [
      "\n",
      "Indizes wurden unter C:\\Users\\Arbnor\\Desktop\\BA\\BA\\Bachelor_Arbeit_VQA\\docs\\train_indices_50percent.txt gespeichert.\n"
     ]
    }
   ],
   "source": [
    "# Speicherort festlegen\n",
    "output_path = project_root / \"docs\" / \"train_indices_50percent.txt\"\n",
    "\n",
    "# Indizes als Textdatei speichern\n",
    "with open(output_path, \"w\") as f:\n",
    "    for idx in selected_indices:\n",
    "        f.write(f\"{idx}\\n\")\n",
    "\n",
    "print(f\"\\nIndizes wurden unter {output_path} gespeichert.\")\n"
   ],
   "metadata": {
    "collapsed": false,
    "ExecuteTime": {
     "end_time": "2025-04-10T14:53:06.633271Z",
     "start_time": "2025-04-10T14:53:06.617804Z"
    }
   },
   "id": "1c75257a17fc657b",
   "execution_count": 6
  },
  {
   "cell_type": "code",
   "outputs": [],
   "source": [],
   "metadata": {
    "collapsed": false
   },
   "id": "f90bc17af62c95af"
  }
 ],
 "metadata": {
  "kernelspec": {
   "display_name": "Python 3",
   "language": "python",
   "name": "python3"
  },
  "language_info": {
   "codemirror_mode": {
    "name": "ipython",
    "version": 2
   },
   "file_extension": ".py",
   "mimetype": "text/x-python",
   "name": "python",
   "nbconvert_exporter": "python",
   "pygments_lexer": "ipython2",
   "version": "2.7.6"
  }
 },
 "nbformat": 4,
 "nbformat_minor": 5
}
