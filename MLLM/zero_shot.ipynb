{
 "cells": [
  {
   "cell_type": "code",
   "execution_count": 27,
   "id": "initial_id",
   "metadata": {
    "collapsed": true,
    "ExecuteTime": {
     "end_time": "2025-03-23T13:12:09.303396Z",
     "start_time": "2025-03-23T13:12:09.299531Z"
    }
   },
   "outputs": [],
   "source": [
    "from transformers import Qwen2_5_VLForConditionalGeneration, AutoTokenizer, AutoProcessor\n",
    "from qwen_vl_utils import process_vision_info\n",
    "from datasets import load_from_disk\n",
    "from pathlib import Path\n",
    "import matplotlib.pyplot as plt"
   ]
  },
  {
   "cell_type": "code",
   "outputs": [],
   "source": [
    "project_root = Path.cwd().parent\n",
    "data_path = project_root / \"data\"  / \"train\"\n",
    "\n",
    "dataset = load_from_disk(str(data_path))\n",
    "sample = dataset[0]  \n",
    "image = sample[\"image\"] \n",
    "question = sample[\"question\"]\n",
    "answer = sample[\"answer\"]"
   ],
   "metadata": {
    "collapsed": false,
    "ExecuteTime": {
     "end_time": "2025-03-23T13:12:09.473306Z",
     "start_time": "2025-03-23T13:12:09.305404Z"
    }
   },
   "id": "b99567d6c87225f0",
   "execution_count": 28
  },
  {
   "cell_type": "code",
   "outputs": [
    {
     "name": "stderr",
     "output_type": "stream",
     "text": [
      "Loading checkpoint shards: 100%|██████████| 2/2 [00:00<00:00, 12.06it/s]\n"
     ]
    }
   ],
   "source": [
    "model = Qwen2_5_VLForConditionalGeneration.from_pretrained(\n",
    "    \"Qwen/Qwen2.5-VL-3B-Instruct\", torch_dtype=\"auto\", device_map=\"auto\"\n",
    ")"
   ],
   "metadata": {
    "collapsed": false,
    "ExecuteTime": {
     "end_time": "2025-03-23T13:12:10.095773Z",
     "start_time": "2025-03-23T13:12:09.474313Z"
    }
   },
   "id": "b92472ea806e6721",
   "execution_count": 29
  },
  {
   "cell_type": "code",
   "outputs": [],
   "source": [
    "processor = AutoProcessor.from_pretrained(\"Qwen/Qwen2.5-VL-3B-Instruct\")\n"
   ],
   "metadata": {
    "collapsed": false,
    "ExecuteTime": {
     "end_time": "2025-03-23T13:12:11.629410Z",
     "start_time": "2025-03-23T13:12:10.097779Z"
    }
   },
   "id": "989a7b63510c6bbf",
   "execution_count": 30
  },
  {
   "cell_type": "code",
   "outputs": [],
   "source": [
    "min_pixels = 256*28*28\n",
    "max_pixels = 1280*28*28"
   ],
   "metadata": {
    "collapsed": false,
    "ExecuteTime": {
     "end_time": "2025-03-23T13:12:11.634853Z",
     "start_time": "2025-03-23T13:12:11.630414Z"
    }
   },
   "id": "89a1773c1a6beb71",
   "execution_count": 31
  },
  {
   "cell_type": "code",
   "outputs": [],
   "source": [
    "messages = [\n",
    "    {\n",
    "        \"role\": \"user\",\n",
    "        \"content\": [\n",
    "            {\"type\": \"image\", \"image\": image},\n",
    "            {\"type\": \"text\", \"text\": question}\n",
    "        ]\n",
    "    }\n",
    "]"
   ],
   "metadata": {
    "collapsed": false,
    "ExecuteTime": {
     "end_time": "2025-03-23T13:12:11.647861Z",
     "start_time": "2025-03-23T13:12:11.635859Z"
    }
   },
   "id": "8a3989d401ba3722",
   "execution_count": 32
  },
  {
   "cell_type": "code",
   "outputs": [],
   "source": [
    "text = processor.apply_chat_template(\n",
    "    messages, tokenize=False, add_generation_prompt=True\n",
    ")"
   ],
   "metadata": {
    "collapsed": false,
    "ExecuteTime": {
     "end_time": "2025-03-23T13:12:11.653548Z",
     "start_time": "2025-03-23T13:12:11.649786Z"
    }
   },
   "id": "74604eb7f17cdf00",
   "execution_count": 33
  },
  {
   "cell_type": "code",
   "outputs": [],
   "source": [
    "image_inputs, video_inputs = process_vision_info(messages)\n",
    "inputs = processor(\n",
    "    text=[text],\n",
    "    images=image_inputs,\n",
    "    videos=video_inputs,\n",
    "    padding=True,\n",
    "    return_tensors=\"pt\",\n",
    ")"
   ],
   "metadata": {
    "collapsed": false,
    "ExecuteTime": {
     "end_time": "2025-03-23T13:12:11.668801Z",
     "start_time": "2025-03-23T13:12:11.655555Z"
    }
   },
   "id": "676bc4f1ccf4fde8",
   "execution_count": 34
  },
  {
   "cell_type": "code",
   "outputs": [],
   "source": [
    "inputs = inputs.to(\"cuda\")"
   ],
   "metadata": {
    "collapsed": false,
    "ExecuteTime": {
     "end_time": "2025-03-23T13:15:26.365664Z",
     "start_time": "2025-03-23T13:15:26.357796Z"
    }
   },
   "id": "e82c0a08d7b12b8b",
   "execution_count": 38
  },
  {
   "cell_type": "code",
   "outputs": [
    {
     "ename": "AttributeError",
     "evalue": "'dict' object has no attribute 'input_ids'",
     "output_type": "error",
     "traceback": [
      "\u001B[31m---------------------------------------------------------------------------\u001B[39m",
      "\u001B[31mAttributeError\u001B[39m                            Traceback (most recent call last)",
      "\u001B[36mCell\u001B[39m\u001B[36m \u001B[39m\u001B[32mIn[39]\u001B[39m\u001B[32m, line 3\u001B[39m\n\u001B[32m      1\u001B[39m generated_ids = model.generate(**inputs, max_new_tokens=\u001B[32m128\u001B[39m)\n\u001B[32m      2\u001B[39m generated_ids_trimmed = [\n\u001B[32m----> \u001B[39m\u001B[32m3\u001B[39m     out_ids[\u001B[38;5;28mlen\u001B[39m(in_ids) :] \u001B[38;5;28;01mfor\u001B[39;00m in_ids, out_ids \u001B[38;5;129;01min\u001B[39;00m \u001B[38;5;28mzip\u001B[39m(\u001B[43minputs\u001B[49m\u001B[43m.\u001B[49m\u001B[43minput_ids\u001B[49m, generated_ids)\n\u001B[32m      4\u001B[39m ]\n\u001B[32m      5\u001B[39m output_text = processor.batch_decode(\n\u001B[32m      6\u001B[39m     generated_ids_trimmed, skip_special_tokens=\u001B[38;5;28;01mTrue\u001B[39;00m, clean_up_tokenization_spaces=\u001B[38;5;28;01mFalse\u001B[39;00m\n\u001B[32m      7\u001B[39m )\n",
      "\u001B[31mAttributeError\u001B[39m: 'dict' object has no attribute 'input_ids'"
     ]
    }
   ],
   "source": [
    "generated_ids = model.generate(**inputs, max_new_tokens=128)\n",
    "generated_ids_trimmed = [\n",
    "    out_ids[len(in_ids) :] for in_ids, out_ids in zip(inputs.input_ids, generated_ids)\n",
    "]\n",
    "output_text = processor.batch_decode(\n",
    "    generated_ids_trimmed, skip_special_tokens=True, clean_up_tokenization_spaces=False\n",
    ")"
   ],
   "metadata": {
    "collapsed": false,
    "ExecuteTime": {
     "end_time": "2025-03-23T13:16:20.942972Z",
     "start_time": "2025-03-23T13:15:28.222983Z"
    }
   },
   "id": "3e9d17c474d7e757",
   "execution_count": 39
  },
  {
   "cell_type": "code",
   "outputs": [
    {
     "name": "stdout",
     "output_type": "stream",
     "text": [
      "cuda\n"
     ]
    }
   ],
   "source": [
    "print(output_text)"
   ],
   "metadata": {
    "collapsed": false,
    "ExecuteTime": {
     "end_time": "2025-03-23T13:15:10.131978Z",
     "start_time": "2025-03-23T13:15:10.127547Z"
    }
   },
   "id": "93069cf3e3b6c7b2",
   "execution_count": 37
  },
  {
   "cell_type": "code",
   "outputs": [],
   "source": [],
   "metadata": {
    "collapsed": false
   },
   "id": "d9247222292a2902"
  }
 ],
 "metadata": {
  "kernelspec": {
   "display_name": "Python 3",
   "language": "python",
   "name": "python3"
  },
  "language_info": {
   "codemirror_mode": {
    "name": "ipython",
    "version": 2
   },
   "file_extension": ".py",
   "mimetype": "text/x-python",
   "name": "python",
   "nbconvert_exporter": "python",
   "pygments_lexer": "ipython2",
   "version": "2.7.6"
  }
 },
 "nbformat": 4,
 "nbformat_minor": 5
}
